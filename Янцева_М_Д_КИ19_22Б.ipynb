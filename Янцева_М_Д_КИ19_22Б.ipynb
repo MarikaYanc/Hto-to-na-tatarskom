{
  "nbformat": 4,
  "nbformat_minor": 0,
  "metadata": {
    "colab": {
      "name": "Янцева М.Д. КИ19-22Б",
      "provenance": [],
      "collapsed_sections": [],
      "include_colab_link": true
    },
    "kernelspec": {
      "name": "python3",
      "display_name": "Python 3"
    },
    "language_info": {
      "name": "python"
    },
    "widgets": {
      "application/vnd.jupyter.widget-state+json": {
        "24404b12181348babc0af262468f2543": {
          "model_module": "@jupyter-widgets/controls",
          "model_name": "IntSliderModel",
          "state": {
            "_view_name": "IntSliderView",
            "style": "IPY_MODEL_99fe5682d4da4246bab40c3c52f24874",
            "_dom_classes": [],
            "description": "",
            "step": 1,
            "_model_name": "IntSliderModel",
            "orientation": "horizontal",
            "max": 100,
            "_view_module": "@jupyter-widgets/controls",
            "_model_module_version": "1.5.0",
            "value": 0,
            "_view_count": null,
            "disabled": false,
            "_view_module_version": "1.5.0",
            "min": 0,
            "continuous_update": true,
            "readout_format": "d",
            "description_tooltip": null,
            "readout": true,
            "_model_module": "@jupyter-widgets/controls",
            "layout": "IPY_MODEL_127c7d68a820488aa6287b854c686831"
          }
        },
        "99fe5682d4da4246bab40c3c52f24874": {
          "model_module": "@jupyter-widgets/controls",
          "model_name": "SliderStyleModel",
          "state": {
            "_view_name": "StyleView",
            "handle_color": null,
            "_model_name": "SliderStyleModel",
            "description_width": "",
            "_view_module": "@jupyter-widgets/base",
            "_model_module_version": "1.5.0",
            "_view_count": null,
            "_view_module_version": "1.2.0",
            "_model_module": "@jupyter-widgets/controls"
          }
        },
        "127c7d68a820488aa6287b854c686831": {
          "model_module": "@jupyter-widgets/base",
          "model_name": "LayoutModel",
          "state": {
            "_view_name": "LayoutView",
            "grid_template_rows": null,
            "right": null,
            "justify_content": null,
            "_view_module": "@jupyter-widgets/base",
            "overflow": null,
            "_model_module_version": "1.2.0",
            "_view_count": null,
            "flex_flow": null,
            "width": null,
            "min_width": null,
            "border": null,
            "align_items": null,
            "bottom": null,
            "_model_module": "@jupyter-widgets/base",
            "top": null,
            "grid_column": null,
            "overflow_y": null,
            "overflow_x": null,
            "grid_auto_flow": null,
            "grid_area": null,
            "grid_template_columns": null,
            "flex": null,
            "_model_name": "LayoutModel",
            "justify_items": null,
            "grid_row": null,
            "max_height": null,
            "align_content": null,
            "visibility": null,
            "align_self": null,
            "height": null,
            "min_height": null,
            "padding": null,
            "grid_auto_rows": null,
            "grid_gap": null,
            "max_width": null,
            "order": null,
            "_view_module_version": "1.2.0",
            "grid_template_areas": null,
            "object_position": null,
            "object_fit": null,
            "grid_auto_columns": null,
            "margin": null,
            "display": null,
            "left": null
          }
        },
        "5a26de9ea20b484e89fd81b76b32130e": {
          "model_module": "@jupyter-widgets/controls",
          "model_name": "TextModel",
          "state": {
            "_view_name": "TextView",
            "style": "IPY_MODEL_044291cc767847789abef5a1060a68f7",
            "_dom_classes": [],
            "description": "",
            "_model_name": "TextModel",
            "placeholder": "​",
            "_view_module": "@jupyter-widgets/controls",
            "_model_module_version": "1.5.0",
            "value": "Мария",
            "_view_count": null,
            "disabled": false,
            "_view_module_version": "1.5.0",
            "continuous_update": true,
            "description_tooltip": null,
            "_model_module": "@jupyter-widgets/controls",
            "layout": "IPY_MODEL_d411438e0d69425ca844a4f1a56a060f"
          }
        },
        "044291cc767847789abef5a1060a68f7": {
          "model_module": "@jupyter-widgets/controls",
          "model_name": "DescriptionStyleModel",
          "state": {
            "_view_name": "StyleView",
            "_model_name": "DescriptionStyleModel",
            "description_width": "",
            "_view_module": "@jupyter-widgets/base",
            "_model_module_version": "1.5.0",
            "_view_count": null,
            "_view_module_version": "1.2.0",
            "_model_module": "@jupyter-widgets/controls"
          }
        },
        "d411438e0d69425ca844a4f1a56a060f": {
          "model_module": "@jupyter-widgets/base",
          "model_name": "LayoutModel",
          "state": {
            "_view_name": "LayoutView",
            "grid_template_rows": null,
            "right": null,
            "justify_content": null,
            "_view_module": "@jupyter-widgets/base",
            "overflow": null,
            "_model_module_version": "1.2.0",
            "_view_count": null,
            "flex_flow": null,
            "width": null,
            "min_width": null,
            "border": null,
            "align_items": null,
            "bottom": null,
            "_model_module": "@jupyter-widgets/base",
            "top": null,
            "grid_column": null,
            "overflow_y": null,
            "overflow_x": null,
            "grid_auto_flow": null,
            "grid_area": null,
            "grid_template_columns": null,
            "flex": null,
            "_model_name": "LayoutModel",
            "justify_items": null,
            "grid_row": null,
            "max_height": null,
            "align_content": null,
            "visibility": null,
            "align_self": null,
            "height": null,
            "min_height": null,
            "padding": null,
            "grid_auto_rows": null,
            "grid_gap": null,
            "max_width": null,
            "order": null,
            "_view_module_version": "1.2.0",
            "grid_template_areas": null,
            "object_position": null,
            "object_fit": null,
            "grid_auto_columns": null,
            "margin": null,
            "display": null,
            "left": null
          }
        },
        "5c80d0609ac24d4aa34dc41209430e54": {
          "model_module": "@jupyter-widgets/controls",
          "model_name": "IntProgressModel",
          "state": {
            "_view_name": "ProgressView",
            "style": "IPY_MODEL_e75d06b517b44150be429d38a4ace2f8",
            "_dom_classes": [],
            "description": "Loading: ",
            "_model_name": "IntProgressModel",
            "bar_style": "",
            "max": 100,
            "_view_module": "@jupyter-widgets/controls",
            "_model_module_version": "1.5.0",
            "value": 100,
            "_view_count": null,
            "_view_module_version": "1.5.0",
            "orientation": "horizontal",
            "min": 1,
            "description_tooltip": null,
            "_model_module": "@jupyter-widgets/controls",
            "layout": "IPY_MODEL_6f91692434974f39bf4b810b6e06941b"
          }
        },
        "e75d06b517b44150be429d38a4ace2f8": {
          "model_module": "@jupyter-widgets/controls",
          "model_name": "ProgressStyleModel",
          "state": {
            "_view_name": "StyleView",
            "_model_name": "ProgressStyleModel",
            "description_width": "",
            "_view_module": "@jupyter-widgets/base",
            "_model_module_version": "1.5.0",
            "_view_count": null,
            "_view_module_version": "1.2.0",
            "bar_color": null,
            "_model_module": "@jupyter-widgets/controls"
          }
        },
        "6f91692434974f39bf4b810b6e06941b": {
          "model_module": "@jupyter-widgets/base",
          "model_name": "LayoutModel",
          "state": {
            "_view_name": "LayoutView",
            "grid_template_rows": null,
            "right": null,
            "justify_content": null,
            "_view_module": "@jupyter-widgets/base",
            "overflow": null,
            "_model_module_version": "1.2.0",
            "_view_count": null,
            "flex_flow": null,
            "width": null,
            "min_width": null,
            "border": null,
            "align_items": null,
            "bottom": null,
            "_model_module": "@jupyter-widgets/base",
            "top": null,
            "grid_column": null,
            "overflow_y": null,
            "overflow_x": null,
            "grid_auto_flow": null,
            "grid_area": null,
            "grid_template_columns": null,
            "flex": null,
            "_model_name": "LayoutModel",
            "justify_items": null,
            "grid_row": null,
            "max_height": null,
            "align_content": null,
            "visibility": null,
            "align_self": null,
            "height": null,
            "min_height": null,
            "padding": null,
            "grid_auto_rows": null,
            "grid_gap": null,
            "max_width": null,
            "order": null,
            "_view_module_version": "1.2.0",
            "grid_template_areas": null,
            "object_position": null,
            "object_fit": null,
            "grid_auto_columns": null,
            "margin": null,
            "display": null,
            "left": null
          }
        },
        "7f1482f28d5045a29bb57e16fa9789c4": {
          "model_module": "@jupyter-widgets/controls",
          "model_name": "ButtonModel",
          "state": {
            "_view_name": "ButtonView",
            "style": "IPY_MODEL_294948fb71714041a1e3bb8a7ef32e3b",
            "_dom_classes": [],
            "description": "Кнопка!",
            "_model_name": "ButtonModel",
            "button_style": "",
            "_view_module": "@jupyter-widgets/controls",
            "_model_module_version": "1.5.0",
            "tooltip": "",
            "_view_count": null,
            "disabled": false,
            "_view_module_version": "1.5.0",
            "layout": "IPY_MODEL_f0b28ac658804459afd8389f87eb5309",
            "_model_module": "@jupyter-widgets/controls",
            "icon": ""
          }
        },
        "294948fb71714041a1e3bb8a7ef32e3b": {
          "model_module": "@jupyter-widgets/controls",
          "model_name": "ButtonStyleModel",
          "state": {
            "_view_name": "StyleView",
            "_model_name": "ButtonStyleModel",
            "_view_module": "@jupyter-widgets/base",
            "_model_module_version": "1.5.0",
            "_view_count": null,
            "button_color": null,
            "font_weight": "",
            "_view_module_version": "1.2.0",
            "_model_module": "@jupyter-widgets/controls"
          }
        },
        "f0b28ac658804459afd8389f87eb5309": {
          "model_module": "@jupyter-widgets/base",
          "model_name": "LayoutModel",
          "state": {
            "_view_name": "LayoutView",
            "grid_template_rows": null,
            "right": null,
            "justify_content": null,
            "_view_module": "@jupyter-widgets/base",
            "overflow": null,
            "_model_module_version": "1.2.0",
            "_view_count": null,
            "flex_flow": null,
            "width": null,
            "min_width": null,
            "border": null,
            "align_items": null,
            "bottom": null,
            "_model_module": "@jupyter-widgets/base",
            "top": null,
            "grid_column": null,
            "overflow_y": null,
            "overflow_x": null,
            "grid_auto_flow": null,
            "grid_area": null,
            "grid_template_columns": null,
            "flex": null,
            "_model_name": "LayoutModel",
            "justify_items": null,
            "grid_row": null,
            "max_height": null,
            "align_content": null,
            "visibility": null,
            "align_self": null,
            "height": null,
            "min_height": null,
            "padding": null,
            "grid_auto_rows": null,
            "grid_gap": null,
            "max_width": null,
            "order": null,
            "_view_module_version": "1.2.0",
            "grid_template_areas": null,
            "object_position": null,
            "object_fit": null,
            "grid_auto_columns": null,
            "margin": null,
            "display": null,
            "left": null
          }
        },
        "2e78ea0ed25244d0bfb81c41f8b191c8": {
          "model_module": "@jupyter-widgets/output",
          "model_name": "OutputModel",
          "state": {
            "_view_name": "OutputView",
            "msg_id": "",
            "_dom_classes": [],
            "_model_name": "OutputModel",
            "outputs": [],
            "_view_module": "@jupyter-widgets/output",
            "_model_module_version": "1.0.0",
            "_view_count": null,
            "_view_module_version": "1.0.0",
            "layout": "IPY_MODEL_1ca540ce8f31490fb4e43474761ec7bb",
            "_model_module": "@jupyter-widgets/output"
          }
        },
        "1ca540ce8f31490fb4e43474761ec7bb": {
          "model_module": "@jupyter-widgets/base",
          "model_name": "LayoutModel",
          "state": {
            "_view_name": "LayoutView",
            "grid_template_rows": null,
            "right": null,
            "justify_content": null,
            "_view_module": "@jupyter-widgets/base",
            "overflow": null,
            "_model_module_version": "1.2.0",
            "_view_count": null,
            "flex_flow": null,
            "width": null,
            "min_width": null,
            "border": null,
            "align_items": null,
            "bottom": null,
            "_model_module": "@jupyter-widgets/base",
            "top": null,
            "grid_column": null,
            "overflow_y": null,
            "overflow_x": null,
            "grid_auto_flow": null,
            "grid_area": null,
            "grid_template_columns": null,
            "flex": null,
            "_model_name": "LayoutModel",
            "justify_items": null,
            "grid_row": null,
            "max_height": null,
            "align_content": null,
            "visibility": null,
            "align_self": null,
            "height": null,
            "min_height": null,
            "padding": null,
            "grid_auto_rows": null,
            "grid_gap": null,
            "max_width": null,
            "order": null,
            "_view_module_version": "1.2.0",
            "grid_template_areas": null,
            "object_position": null,
            "object_fit": null,
            "grid_auto_columns": null,
            "margin": null,
            "display": null,
            "left": null
          }
        },
        "791ac2e8a86641f496035fedb9c1eb01": {
          "model_module": "@jupyter-widgets/controls",
          "model_name": "VBoxModel",
          "state": {
            "_view_name": "VBoxView",
            "_dom_classes": [
              "widget-interact"
            ],
            "_model_name": "VBoxModel",
            "_view_module": "@jupyter-widgets/controls",
            "_model_module_version": "1.5.0",
            "_view_count": null,
            "_view_module_version": "1.5.0",
            "box_style": "",
            "layout": "IPY_MODEL_2005b3a378714ef8b935b95746c0195b",
            "_model_module": "@jupyter-widgets/controls",
            "children": [
              "IPY_MODEL_0fd2ff97951c43ecb0f318a80da8157b",
              "IPY_MODEL_e63988e5f41548a9bef70352a6c32bd6"
            ]
          }
        },
        "2005b3a378714ef8b935b95746c0195b": {
          "model_module": "@jupyter-widgets/base",
          "model_name": "LayoutModel",
          "state": {
            "_view_name": "LayoutView",
            "grid_template_rows": null,
            "right": null,
            "justify_content": null,
            "_view_module": "@jupyter-widgets/base",
            "overflow": null,
            "_model_module_version": "1.2.0",
            "_view_count": null,
            "flex_flow": null,
            "width": null,
            "min_width": null,
            "border": null,
            "align_items": null,
            "bottom": null,
            "_model_module": "@jupyter-widgets/base",
            "top": null,
            "grid_column": null,
            "overflow_y": null,
            "overflow_x": null,
            "grid_auto_flow": null,
            "grid_area": null,
            "grid_template_columns": null,
            "flex": null,
            "_model_name": "LayoutModel",
            "justify_items": null,
            "grid_row": null,
            "max_height": null,
            "align_content": null,
            "visibility": null,
            "align_self": null,
            "height": null,
            "min_height": null,
            "padding": null,
            "grid_auto_rows": null,
            "grid_gap": null,
            "max_width": null,
            "order": null,
            "_view_module_version": "1.2.0",
            "grid_template_areas": null,
            "object_position": null,
            "object_fit": null,
            "grid_auto_columns": null,
            "margin": null,
            "display": null,
            "left": null
          }
        },
        "0fd2ff97951c43ecb0f318a80da8157b": {
          "model_module": "@jupyter-widgets/controls",
          "model_name": "DropdownModel",
          "state": {
            "_options_labels": [
              "Саша",
              "Маша",
              "Даша"
            ],
            "_view_name": "DropdownView",
            "style": "IPY_MODEL_73120507540147cdb7fd2f66fbd18f8d",
            "_dom_classes": [],
            "description": "name",
            "_model_name": "DropdownModel",
            "index": 1,
            "_view_module": "@jupyter-widgets/controls",
            "_model_module_version": "1.5.0",
            "_view_count": null,
            "disabled": false,
            "_view_module_version": "1.5.0",
            "description_tooltip": null,
            "_model_module": "@jupyter-widgets/controls",
            "layout": "IPY_MODEL_ba5c2e3760ad456aaa9d96d1a39f633a"
          }
        },
        "e63988e5f41548a9bef70352a6c32bd6": {
          "model_module": "@jupyter-widgets/output",
          "model_name": "OutputModel",
          "state": {
            "_view_name": "OutputView",
            "msg_id": "",
            "_dom_classes": [],
            "_model_name": "OutputModel",
            "outputs": [
              {
                "output_type": "stream",
                "metadata": {
                  "tags": []
                },
                "text": "My name is Маша\n",
                "stream": "stdout"
              }
            ],
            "_view_module": "@jupyter-widgets/output",
            "_model_module_version": "1.0.0",
            "_view_count": null,
            "_view_module_version": "1.0.0",
            "layout": "IPY_MODEL_0aaa3297590d4503ab25fd6f31cc4d58",
            "_model_module": "@jupyter-widgets/output"
          }
        },
        "73120507540147cdb7fd2f66fbd18f8d": {
          "model_module": "@jupyter-widgets/controls",
          "model_name": "DescriptionStyleModel",
          "state": {
            "_view_name": "StyleView",
            "_model_name": "DescriptionStyleModel",
            "description_width": "",
            "_view_module": "@jupyter-widgets/base",
            "_model_module_version": "1.5.0",
            "_view_count": null,
            "_view_module_version": "1.2.0",
            "_model_module": "@jupyter-widgets/controls"
          }
        },
        "ba5c2e3760ad456aaa9d96d1a39f633a": {
          "model_module": "@jupyter-widgets/base",
          "model_name": "LayoutModel",
          "state": {
            "_view_name": "LayoutView",
            "grid_template_rows": null,
            "right": null,
            "justify_content": null,
            "_view_module": "@jupyter-widgets/base",
            "overflow": null,
            "_model_module_version": "1.2.0",
            "_view_count": null,
            "flex_flow": null,
            "width": null,
            "min_width": null,
            "border": null,
            "align_items": null,
            "bottom": null,
            "_model_module": "@jupyter-widgets/base",
            "top": null,
            "grid_column": null,
            "overflow_y": null,
            "overflow_x": null,
            "grid_auto_flow": null,
            "grid_area": null,
            "grid_template_columns": null,
            "flex": null,
            "_model_name": "LayoutModel",
            "justify_items": null,
            "grid_row": null,
            "max_height": null,
            "align_content": null,
            "visibility": null,
            "align_self": null,
            "height": null,
            "min_height": null,
            "padding": null,
            "grid_auto_rows": null,
            "grid_gap": null,
            "max_width": null,
            "order": null,
            "_view_module_version": "1.2.0",
            "grid_template_areas": null,
            "object_position": null,
            "object_fit": null,
            "grid_auto_columns": null,
            "margin": null,
            "display": null,
            "left": null
          }
        },
        "0aaa3297590d4503ab25fd6f31cc4d58": {
          "model_module": "@jupyter-widgets/base",
          "model_name": "LayoutModel",
          "state": {
            "_view_name": "LayoutView",
            "grid_template_rows": null,
            "right": null,
            "justify_content": null,
            "_view_module": "@jupyter-widgets/base",
            "overflow": null,
            "_model_module_version": "1.2.0",
            "_view_count": null,
            "flex_flow": null,
            "width": null,
            "min_width": null,
            "border": null,
            "align_items": null,
            "bottom": null,
            "_model_module": "@jupyter-widgets/base",
            "top": null,
            "grid_column": null,
            "overflow_y": null,
            "overflow_x": null,
            "grid_auto_flow": null,
            "grid_area": null,
            "grid_template_columns": null,
            "flex": null,
            "_model_name": "LayoutModel",
            "justify_items": null,
            "grid_row": null,
            "max_height": null,
            "align_content": null,
            "visibility": null,
            "align_self": null,
            "height": null,
            "min_height": null,
            "padding": null,
            "grid_auto_rows": null,
            "grid_gap": null,
            "max_width": null,
            "order": null,
            "_view_module_version": "1.2.0",
            "grid_template_areas": null,
            "object_position": null,
            "object_fit": null,
            "grid_auto_columns": null,
            "margin": null,
            "display": null,
            "left": null
          }
        },
        "235a9e85dc6944199964f520d5829a50": {
          "model_module": "@jupyter-widgets/controls",
          "model_name": "VBoxModel",
          "state": {
            "_view_name": "VBoxView",
            "_dom_classes": [
              "widget-interact"
            ],
            "_model_name": "VBoxModel",
            "_view_module": "@jupyter-widgets/controls",
            "_model_module_version": "1.5.0",
            "_view_count": null,
            "_view_module_version": "1.5.0",
            "box_style": "",
            "layout": "IPY_MODEL_730eab6e30e441ff8dd2f00a7e6d6ac2",
            "_model_module": "@jupyter-widgets/controls",
            "children": [
              "IPY_MODEL_b6aa4944ffe84ca2bc8a000292bca83e",
              "IPY_MODEL_6f7ff6ea40e6450187fa88f98ce5b859",
              "IPY_MODEL_ac7dbc0e3f524c15be447cc289d47ea2",
              "IPY_MODEL_5299cac933e7457e8cf2350be88a4dae"
            ]
          }
        },
        "730eab6e30e441ff8dd2f00a7e6d6ac2": {
          "model_module": "@jupyter-widgets/base",
          "model_name": "LayoutModel",
          "state": {
            "_view_name": "LayoutView",
            "grid_template_rows": null,
            "right": null,
            "justify_content": null,
            "_view_module": "@jupyter-widgets/base",
            "overflow": null,
            "_model_module_version": "1.2.0",
            "_view_count": null,
            "flex_flow": null,
            "width": null,
            "min_width": null,
            "border": null,
            "align_items": null,
            "bottom": null,
            "_model_module": "@jupyter-widgets/base",
            "top": null,
            "grid_column": null,
            "overflow_y": null,
            "overflow_x": null,
            "grid_auto_flow": null,
            "grid_area": null,
            "grid_template_columns": null,
            "flex": null,
            "_model_name": "LayoutModel",
            "justify_items": null,
            "grid_row": null,
            "max_height": null,
            "align_content": null,
            "visibility": null,
            "align_self": null,
            "height": null,
            "min_height": null,
            "padding": null,
            "grid_auto_rows": null,
            "grid_gap": null,
            "max_width": null,
            "order": null,
            "_view_module_version": "1.2.0",
            "grid_template_areas": null,
            "object_position": null,
            "object_fit": null,
            "grid_auto_columns": null,
            "margin": null,
            "display": null,
            "left": null
          }
        },
        "b6aa4944ffe84ca2bc8a000292bca83e": {
          "model_module": "@jupyter-widgets/controls",
          "model_name": "IntSliderModel",
          "state": {
            "_view_name": "IntSliderView",
            "style": "IPY_MODEL_7351ae1c6b984f0fb71d3106977e5729",
            "_dom_classes": [],
            "description": "w",
            "step": 1,
            "_model_name": "IntSliderModel",
            "orientation": "horizontal",
            "max": 10,
            "_view_module": "@jupyter-widgets/controls",
            "_model_module_version": "1.5.0",
            "value": 5,
            "_view_count": null,
            "disabled": false,
            "_view_module_version": "1.5.0",
            "min": 0,
            "continuous_update": true,
            "readout_format": "d",
            "description_tooltip": null,
            "readout": true,
            "_model_module": "@jupyter-widgets/controls",
            "layout": "IPY_MODEL_0ffa26f447084e20bfbf2b9cac057562"
          }
        },
        "6f7ff6ea40e6450187fa88f98ce5b859": {
          "model_module": "@jupyter-widgets/controls",
          "model_name": "FloatSliderModel",
          "state": {
            "_view_name": "FloatSliderView",
            "style": "IPY_MODEL_8bf468ad143f426283b110f850847036",
            "_dom_classes": [],
            "description": "amp",
            "step": 0.1,
            "_model_name": "FloatSliderModel",
            "orientation": "horizontal",
            "max": 4,
            "_view_module": "@jupyter-widgets/controls",
            "_model_module_version": "1.5.0",
            "value": 2,
            "_view_count": null,
            "disabled": false,
            "_view_module_version": "1.5.0",
            "min": 0,
            "continuous_update": true,
            "readout_format": ".2f",
            "description_tooltip": null,
            "readout": true,
            "_model_module": "@jupyter-widgets/controls",
            "layout": "IPY_MODEL_eb29a236117d48979fb22de1635defcc"
          }
        },
        "ac7dbc0e3f524c15be447cc289d47ea2": {
          "model_module": "@jupyter-widgets/controls",
          "model_name": "FloatSliderModel",
          "state": {
            "_view_name": "FloatSliderView",
            "style": "IPY_MODEL_7c1ce2b18f78453ca86ae2064d327dbc",
            "_dom_classes": [],
            "description": "phi",
            "step": 0.01,
            "_model_name": "FloatSliderModel",
            "orientation": "horizontal",
            "max": 6.293185307179586,
            "_view_module": "@jupyter-widgets/controls",
            "_model_module_version": "1.5.0",
            "value": 3.14,
            "_view_count": null,
            "disabled": false,
            "_view_module_version": "1.5.0",
            "min": 0,
            "continuous_update": true,
            "readout_format": ".2f",
            "description_tooltip": null,
            "readout": true,
            "_model_module": "@jupyter-widgets/controls",
            "layout": "IPY_MODEL_14e7b5fea8b842f795ed58ace6a91864"
          }
        },
        "5299cac933e7457e8cf2350be88a4dae": {
          "model_module": "@jupyter-widgets/output",
          "model_name": "OutputModel",
          "state": {
            "_view_name": "OutputView",
            "msg_id": "",
            "_dom_classes": [],
            "_model_name": "OutputModel",
            "outputs": [
              {
                "output_type": "stream",
                "metadata": {
                  "tags": []
                },
                "text": "5 2.0 3.14\n",
                "stream": "stdout"
              },
              {
                "output_type": "display_data",
                "metadata": {
                  "tags": [],
                  "needs_background": "light"
                },
                "image/png": "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\n",
                "text/plain": "<Figure size 432x288 with 1 Axes>"
              }
            ],
            "_view_module": "@jupyter-widgets/output",
            "_model_module_version": "1.0.0",
            "_view_count": null,
            "_view_module_version": "1.0.0",
            "layout": "IPY_MODEL_02300d1ace0c4206a78ab782bf044b53",
            "_model_module": "@jupyter-widgets/output"
          }
        },
        "7351ae1c6b984f0fb71d3106977e5729": {
          "model_module": "@jupyter-widgets/controls",
          "model_name": "SliderStyleModel",
          "state": {
            "_view_name": "StyleView",
            "handle_color": null,
            "_model_name": "SliderStyleModel",
            "description_width": "",
            "_view_module": "@jupyter-widgets/base",
            "_model_module_version": "1.5.0",
            "_view_count": null,
            "_view_module_version": "1.2.0",
            "_model_module": "@jupyter-widgets/controls"
          }
        },
        "0ffa26f447084e20bfbf2b9cac057562": {
          "model_module": "@jupyter-widgets/base",
          "model_name": "LayoutModel",
          "state": {
            "_view_name": "LayoutView",
            "grid_template_rows": null,
            "right": null,
            "justify_content": null,
            "_view_module": "@jupyter-widgets/base",
            "overflow": null,
            "_model_module_version": "1.2.0",
            "_view_count": null,
            "flex_flow": null,
            "width": null,
            "min_width": null,
            "border": null,
            "align_items": null,
            "bottom": null,
            "_model_module": "@jupyter-widgets/base",
            "top": null,
            "grid_column": null,
            "overflow_y": null,
            "overflow_x": null,
            "grid_auto_flow": null,
            "grid_area": null,
            "grid_template_columns": null,
            "flex": null,
            "_model_name": "LayoutModel",
            "justify_items": null,
            "grid_row": null,
            "max_height": null,
            "align_content": null,
            "visibility": null,
            "align_self": null,
            "height": null,
            "min_height": null,
            "padding": null,
            "grid_auto_rows": null,
            "grid_gap": null,
            "max_width": null,
            "order": null,
            "_view_module_version": "1.2.0",
            "grid_template_areas": null,
            "object_position": null,
            "object_fit": null,
            "grid_auto_columns": null,
            "margin": null,
            "display": null,
            "left": null
          }
        },
        "8bf468ad143f426283b110f850847036": {
          "model_module": "@jupyter-widgets/controls",
          "model_name": "SliderStyleModel",
          "state": {
            "_view_name": "StyleView",
            "handle_color": null,
            "_model_name": "SliderStyleModel",
            "description_width": "",
            "_view_module": "@jupyter-widgets/base",
            "_model_module_version": "1.5.0",
            "_view_count": null,
            "_view_module_version": "1.2.0",
            "_model_module": "@jupyter-widgets/controls"
          }
        },
        "eb29a236117d48979fb22de1635defcc": {
          "model_module": "@jupyter-widgets/base",
          "model_name": "LayoutModel",
          "state": {
            "_view_name": "LayoutView",
            "grid_template_rows": null,
            "right": null,
            "justify_content": null,
            "_view_module": "@jupyter-widgets/base",
            "overflow": null,
            "_model_module_version": "1.2.0",
            "_view_count": null,
            "flex_flow": null,
            "width": null,
            "min_width": null,
            "border": null,
            "align_items": null,
            "bottom": null,
            "_model_module": "@jupyter-widgets/base",
            "top": null,
            "grid_column": null,
            "overflow_y": null,
            "overflow_x": null,
            "grid_auto_flow": null,
            "grid_area": null,
            "grid_template_columns": null,
            "flex": null,
            "_model_name": "LayoutModel",
            "justify_items": null,
            "grid_row": null,
            "max_height": null,
            "align_content": null,
            "visibility": null,
            "align_self": null,
            "height": null,
            "min_height": null,
            "padding": null,
            "grid_auto_rows": null,
            "grid_gap": null,
            "max_width": null,
            "order": null,
            "_view_module_version": "1.2.0",
            "grid_template_areas": null,
            "object_position": null,
            "object_fit": null,
            "grid_auto_columns": null,
            "margin": null,
            "display": null,
            "left": null
          }
        },
        "7c1ce2b18f78453ca86ae2064d327dbc": {
          "model_module": "@jupyter-widgets/controls",
          "model_name": "SliderStyleModel",
          "state": {
            "_view_name": "StyleView",
            "handle_color": null,
            "_model_name": "SliderStyleModel",
            "description_width": "",
            "_view_module": "@jupyter-widgets/base",
            "_model_module_version": "1.5.0",
            "_view_count": null,
            "_view_module_version": "1.2.0",
            "_model_module": "@jupyter-widgets/controls"
          }
        },
        "14e7b5fea8b842f795ed58ace6a91864": {
          "model_module": "@jupyter-widgets/base",
          "model_name": "LayoutModel",
          "state": {
            "_view_name": "LayoutView",
            "grid_template_rows": null,
            "right": null,
            "justify_content": null,
            "_view_module": "@jupyter-widgets/base",
            "overflow": null,
            "_model_module_version": "1.2.0",
            "_view_count": null,
            "flex_flow": null,
            "width": null,
            "min_width": null,
            "border": null,
            "align_items": null,
            "bottom": null,
            "_model_module": "@jupyter-widgets/base",
            "top": null,
            "grid_column": null,
            "overflow_y": null,
            "overflow_x": null,
            "grid_auto_flow": null,
            "grid_area": null,
            "grid_template_columns": null,
            "flex": null,
            "_model_name": "LayoutModel",
            "justify_items": null,
            "grid_row": null,
            "max_height": null,
            "align_content": null,
            "visibility": null,
            "align_self": null,
            "height": null,
            "min_height": null,
            "padding": null,
            "grid_auto_rows": null,
            "grid_gap": null,
            "max_width": null,
            "order": null,
            "_view_module_version": "1.2.0",
            "grid_template_areas": null,
            "object_position": null,
            "object_fit": null,
            "grid_auto_columns": null,
            "margin": null,
            "display": null,
            "left": null
          }
        },
        "02300d1ace0c4206a78ab782bf044b53": {
          "model_module": "@jupyter-widgets/base",
          "model_name": "LayoutModel",
          "state": {
            "_view_name": "LayoutView",
            "grid_template_rows": null,
            "right": null,
            "justify_content": null,
            "_view_module": "@jupyter-widgets/base",
            "overflow": null,
            "_model_module_version": "1.2.0",
            "_view_count": null,
            "flex_flow": null,
            "width": null,
            "min_width": null,
            "border": null,
            "align_items": null,
            "bottom": null,
            "_model_module": "@jupyter-widgets/base",
            "top": null,
            "grid_column": null,
            "overflow_y": null,
            "overflow_x": null,
            "grid_auto_flow": null,
            "grid_area": null,
            "grid_template_columns": null,
            "flex": null,
            "_model_name": "LayoutModel",
            "justify_items": null,
            "grid_row": null,
            "max_height": null,
            "align_content": null,
            "visibility": null,
            "align_self": null,
            "height": null,
            "min_height": null,
            "padding": null,
            "grid_auto_rows": null,
            "grid_gap": null,
            "max_width": null,
            "order": null,
            "_view_module_version": "1.2.0",
            "grid_template_areas": null,
            "object_position": null,
            "object_fit": null,
            "grid_auto_columns": null,
            "margin": null,
            "display": null,
            "left": null
          }
        },
        "3fa45d8742854928895135402b9e2af0": {
          "model_module": "@jupyter-widgets/controls",
          "model_name": "ButtonModel",
          "state": {
            "_view_name": "ButtonView",
            "style": "IPY_MODEL_0824629529f64f25b30b7d3743a54b30",
            "_dom_classes": [],
            "description": "INFO",
            "_model_name": "ButtonModel",
            "button_style": "",
            "_view_module": "@jupyter-widgets/controls",
            "_model_module_version": "1.5.0",
            "tooltip": "",
            "_view_count": null,
            "disabled": false,
            "_view_module_version": "1.5.0",
            "layout": "IPY_MODEL_1f02a94a1b6d41b3ac076daba46fa79f",
            "_model_module": "@jupyter-widgets/controls",
            "icon": ""
          }
        },
        "0824629529f64f25b30b7d3743a54b30": {
          "model_module": "@jupyter-widgets/controls",
          "model_name": "ButtonStyleModel",
          "state": {
            "_view_name": "StyleView",
            "_model_name": "ButtonStyleModel",
            "_view_module": "@jupyter-widgets/base",
            "_model_module_version": "1.5.0",
            "_view_count": null,
            "button_color": null,
            "font_weight": "",
            "_view_module_version": "1.2.0",
            "_model_module": "@jupyter-widgets/controls"
          }
        },
        "1f02a94a1b6d41b3ac076daba46fa79f": {
          "model_module": "@jupyter-widgets/base",
          "model_name": "LayoutModel",
          "state": {
            "_view_name": "LayoutView",
            "grid_template_rows": null,
            "right": null,
            "justify_content": null,
            "_view_module": "@jupyter-widgets/base",
            "overflow": null,
            "_model_module_version": "1.2.0",
            "_view_count": null,
            "flex_flow": null,
            "width": null,
            "min_width": null,
            "border": null,
            "align_items": null,
            "bottom": null,
            "_model_module": "@jupyter-widgets/base",
            "top": null,
            "grid_column": null,
            "overflow_y": null,
            "overflow_x": null,
            "grid_auto_flow": null,
            "grid_area": null,
            "grid_template_columns": null,
            "flex": null,
            "_model_name": "LayoutModel",
            "justify_items": null,
            "grid_row": null,
            "max_height": null,
            "align_content": null,
            "visibility": null,
            "align_self": null,
            "height": null,
            "min_height": null,
            "padding": null,
            "grid_auto_rows": null,
            "grid_gap": null,
            "max_width": null,
            "order": null,
            "_view_module_version": "1.2.0",
            "grid_template_areas": null,
            "object_position": null,
            "object_fit": null,
            "grid_auto_columns": null,
            "margin": null,
            "display": null,
            "left": null
          }
        },
        "412856ae9409411fa2860ebaf21cb557": {
          "model_module": "@jupyter-widgets/output",
          "model_name": "OutputModel",
          "state": {
            "_view_name": "OutputView",
            "msg_id": "",
            "_dom_classes": [],
            "_model_name": "OutputModel",
            "outputs": [],
            "_view_module": "@jupyter-widgets/output",
            "_model_module_version": "1.0.0",
            "_view_count": null,
            "_view_module_version": "1.0.0",
            "layout": "IPY_MODEL_d02397dcda844fce85a98689ce6aa1b9",
            "_model_module": "@jupyter-widgets/output"
          }
        },
        "d02397dcda844fce85a98689ce6aa1b9": {
          "model_module": "@jupyter-widgets/base",
          "model_name": "LayoutModel",
          "state": {
            "_view_name": "LayoutView",
            "grid_template_rows": null,
            "right": null,
            "justify_content": null,
            "_view_module": "@jupyter-widgets/base",
            "overflow": null,
            "_model_module_version": "1.2.0",
            "_view_count": null,
            "flex_flow": null,
            "width": null,
            "min_width": null,
            "border": null,
            "align_items": null,
            "bottom": null,
            "_model_module": "@jupyter-widgets/base",
            "top": null,
            "grid_column": null,
            "overflow_y": null,
            "overflow_x": null,
            "grid_auto_flow": null,
            "grid_area": null,
            "grid_template_columns": null,
            "flex": null,
            "_model_name": "LayoutModel",
            "justify_items": null,
            "grid_row": null,
            "max_height": null,
            "align_content": null,
            "visibility": null,
            "align_self": null,
            "height": null,
            "min_height": null,
            "padding": null,
            "grid_auto_rows": null,
            "grid_gap": null,
            "max_width": null,
            "order": null,
            "_view_module_version": "1.2.0",
            "grid_template_areas": null,
            "object_position": null,
            "object_fit": null,
            "grid_auto_columns": null,
            "margin": null,
            "display": null,
            "left": null
          }
        },
        "3e2788ed568648ecb85d1477e0e7fa2a": {
          "model_module": "@jupyter-widgets/controls",
          "model_name": "ButtonModel",
          "state": {
            "_view_name": "ButtonView",
            "style": "IPY_MODEL_61b107a9190349fcb36ceb3476f9fdd7",
            "_dom_classes": [],
            "description": "DESCRIBE",
            "_model_name": "ButtonModel",
            "button_style": "",
            "_view_module": "@jupyter-widgets/controls",
            "_model_module_version": "1.5.0",
            "tooltip": "",
            "_view_count": null,
            "disabled": false,
            "_view_module_version": "1.5.0",
            "layout": "IPY_MODEL_0081de04d5b84938adbc0bfc603a4a27",
            "_model_module": "@jupyter-widgets/controls",
            "icon": ""
          }
        },
        "61b107a9190349fcb36ceb3476f9fdd7": {
          "model_module": "@jupyter-widgets/controls",
          "model_name": "ButtonStyleModel",
          "state": {
            "_view_name": "StyleView",
            "_model_name": "ButtonStyleModel",
            "_view_module": "@jupyter-widgets/base",
            "_model_module_version": "1.5.0",
            "_view_count": null,
            "button_color": null,
            "font_weight": "",
            "_view_module_version": "1.2.0",
            "_model_module": "@jupyter-widgets/controls"
          }
        },
        "0081de04d5b84938adbc0bfc603a4a27": {
          "model_module": "@jupyter-widgets/base",
          "model_name": "LayoutModel",
          "state": {
            "_view_name": "LayoutView",
            "grid_template_rows": null,
            "right": null,
            "justify_content": null,
            "_view_module": "@jupyter-widgets/base",
            "overflow": null,
            "_model_module_version": "1.2.0",
            "_view_count": null,
            "flex_flow": null,
            "width": null,
            "min_width": null,
            "border": null,
            "align_items": null,
            "bottom": null,
            "_model_module": "@jupyter-widgets/base",
            "top": null,
            "grid_column": null,
            "overflow_y": null,
            "overflow_x": null,
            "grid_auto_flow": null,
            "grid_area": null,
            "grid_template_columns": null,
            "flex": null,
            "_model_name": "LayoutModel",
            "justify_items": null,
            "grid_row": null,
            "max_height": null,
            "align_content": null,
            "visibility": null,
            "align_self": null,
            "height": null,
            "min_height": null,
            "padding": null,
            "grid_auto_rows": null,
            "grid_gap": null,
            "max_width": null,
            "order": null,
            "_view_module_version": "1.2.0",
            "grid_template_areas": null,
            "object_position": null,
            "object_fit": null,
            "grid_auto_columns": null,
            "margin": null,
            "display": null,
            "left": null
          }
        },
        "27d83c2c249a4bec8941bd47a4393383": {
          "model_module": "@jupyter-widgets/output",
          "model_name": "OutputModel",
          "state": {
            "_view_name": "OutputView",
            "msg_id": "",
            "_dom_classes": [],
            "_model_name": "OutputModel",
            "outputs": [],
            "_view_module": "@jupyter-widgets/output",
            "_model_module_version": "1.0.0",
            "_view_count": null,
            "_view_module_version": "1.0.0",
            "layout": "IPY_MODEL_af9e3afd63024f528c4ad599014f8aef",
            "_model_module": "@jupyter-widgets/output"
          }
        },
        "af9e3afd63024f528c4ad599014f8aef": {
          "model_module": "@jupyter-widgets/base",
          "model_name": "LayoutModel",
          "state": {
            "_view_name": "LayoutView",
            "grid_template_rows": null,
            "right": null,
            "justify_content": null,
            "_view_module": "@jupyter-widgets/base",
            "overflow": null,
            "_model_module_version": "1.2.0",
            "_view_count": null,
            "flex_flow": null,
            "width": null,
            "min_width": null,
            "border": null,
            "align_items": null,
            "bottom": null,
            "_model_module": "@jupyter-widgets/base",
            "top": null,
            "grid_column": null,
            "overflow_y": null,
            "overflow_x": null,
            "grid_auto_flow": null,
            "grid_area": null,
            "grid_template_columns": null,
            "flex": null,
            "_model_name": "LayoutModel",
            "justify_items": null,
            "grid_row": null,
            "max_height": null,
            "align_content": null,
            "visibility": null,
            "align_self": null,
            "height": null,
            "min_height": null,
            "padding": null,
            "grid_auto_rows": null,
            "grid_gap": null,
            "max_width": null,
            "order": null,
            "_view_module_version": "1.2.0",
            "grid_template_areas": null,
            "object_position": null,
            "object_fit": null,
            "grid_auto_columns": null,
            "margin": null,
            "display": null,
            "left": null
          }
        }
      }
    }
  },
  "cells": [
    {
      "cell_type": "markdown",
      "metadata": {
        "id": "view-in-github",
        "colab_type": "text"
      },
      "source": [
        "<a href=\"https://colab.research.google.com/github/MarikaYanc/chto-to-na-tatarskom/blob/main/%D0%AF%D0%BD%D1%86%D0%B5%D0%B2%D0%B0_%D0%9C_%D0%94_%D0%9A%D0%9819_22%D0%91.ipynb\" target=\"_parent\"><img src=\"https://colab.research.google.com/assets/colab-badge.svg\" alt=\"Open In Colab\"/></a>"
      ]
    },
    {
      "cell_type": "markdown",
      "metadata": {
        "id": "n2B_d3Jf3gO4"
      },
      "source": [
        "# Basic Widgets"
      ]
    },
    {
      "cell_type": "code",
      "metadata": {
        "id": "3ZXwd49Eq29c"
      },
      "source": [
        "import ipywidgets as wd"
      ],
      "execution_count": null,
      "outputs": []
    },
    {
      "cell_type": "code",
      "metadata": {
        "id": "wy5PxLbiq5jG"
      },
      "source": [
        "from IPython.display import  display"
      ],
      "execution_count": null,
      "outputs": []
    },
    {
      "cell_type": "code",
      "metadata": {
        "id": "JsM_rkXEq7Ig"
      },
      "source": [
        "sl1 = wd.IntSlider()"
      ],
      "execution_count": null,
      "outputs": []
    },
    {
      "cell_type": "code",
      "metadata": {
        "colab": {
          "base_uri": "https://localhost:8080/",
          "height": 49,
          "referenced_widgets": [
            "24404b12181348babc0af262468f2543",
            "99fe5682d4da4246bab40c3c52f24874",
            "127c7d68a820488aa6287b854c686831"
          ]
        },
        "id": "yYBZ852Hq8s0",
        "outputId": "b85d772c-9ef1-4e4e-e873-ce5c45499007"
      },
      "source": [
        "sl1"
      ],
      "execution_count": null,
      "outputs": [
        {
          "output_type": "display_data",
          "data": {
            "application/vnd.jupyter.widget-view+json": {
              "model_id": "24404b12181348babc0af262468f2543",
              "version_minor": 0,
              "version_major": 2
            },
            "text/plain": [
              "IntSlider(value=0)"
            ]
          },
          "metadata": {
            "tags": []
          }
        }
      ]
    },
    {
      "cell_type": "code",
      "metadata": {
        "id": "Atkdgmo2rGAv"
      },
      "source": [
        "name = wd.Text(value='Мария')"
      ],
      "execution_count": null,
      "outputs": []
    },
    {
      "cell_type": "code",
      "metadata": {
        "colab": {
          "base_uri": "https://localhost:8080/",
          "height": 49,
          "referenced_widgets": [
            "5a26de9ea20b484e89fd81b76b32130e",
            "044291cc767847789abef5a1060a68f7",
            "d411438e0d69425ca844a4f1a56a060f"
          ]
        },
        "id": "bgE95cMUq-gV",
        "outputId": "c050934e-168f-44d8-c01f-199c8e9c0177"
      },
      "source": [
        "display(name)"
      ],
      "execution_count": null,
      "outputs": [
        {
          "output_type": "display_data",
          "data": {
            "application/vnd.jupyter.widget-view+json": {
              "model_id": "5a26de9ea20b484e89fd81b76b32130e",
              "version_minor": 0,
              "version_major": 2
            },
            "text/plain": [
              "Text(value='Мария')"
            ]
          },
          "metadata": {
            "tags": []
          }
        }
      ]
    },
    {
      "cell_type": "code",
      "metadata": {
        "id": "XyOiLv3grM_I"
      },
      "source": [
        "import time"
      ],
      "execution_count": null,
      "outputs": []
    },
    {
      "cell_type": "code",
      "metadata": {
        "colab": {
          "base_uri": "https://localhost:8080/",
          "height": 49,
          "referenced_widgets": [
            "5c80d0609ac24d4aa34dc41209430e54",
            "e75d06b517b44150be429d38a4ace2f8",
            "6f91692434974f39bf4b810b6e06941b"
          ]
        },
        "id": "X9ob27yOrOLV",
        "outputId": "d5dae18e-46d1-4b85-9906-e954dce9466f"
      },
      "source": [
        "pb1 = wd.IntProgress(value=0,\n",
        "                          min=1,\n",
        "                          max=100,\n",
        "                          description='Loading: ',\n",
        "                          bar_style='',\n",
        "                          orientation='horizontal')\n",
        "display(pb1)\n",
        "\n",
        "for i in range(100):\n",
        "    pb1.value = i+1\n",
        "    time.sleep(0.2)"
      ],
      "execution_count": null,
      "outputs": [
        {
          "output_type": "display_data",
          "data": {
            "application/vnd.jupyter.widget-view+json": {
              "model_id": "5c80d0609ac24d4aa34dc41209430e54",
              "version_minor": 0,
              "version_major": 2
            },
            "text/plain": [
              "IntProgress(value=1, description='Loading: ', min=1)"
            ]
          },
          "metadata": {
            "tags": []
          }
        }
      ]
    },
    {
      "cell_type": "markdown",
      "metadata": {
        "id": "tu-F8Q7X330j"
      },
      "source": [
        "# Button"
      ]
    },
    {
      "cell_type": "code",
      "metadata": {
        "colab": {
          "base_uri": "https://localhost:8080/",
          "height": 49,
          "referenced_widgets": [
            "7f1482f28d5045a29bb57e16fa9789c4",
            "294948fb71714041a1e3bb8a7ef32e3b",
            "f0b28ac658804459afd8389f87eb5309",
            "2e78ea0ed25244d0bfb81c41f8b191c8",
            "1ca540ce8f31490fb4e43474761ec7bb"
          ]
        },
        "id": "QywZ3RPHrXXR",
        "outputId": "9ca2c541-1bee-4c3b-be9a-94615b151191"
      },
      "source": [
        "button = wd.Button(description=\"Кнопка!\")\n",
        "output = wd.Output()\n",
        "\n",
        "def  on_my_button_click(b):\n",
        "    with output:\n",
        "        print(\"Button clicked (msq1).\")\n",
        "        print(\"Button clicked (msq2).\")\n",
        "\n",
        "button.on_click(on_my_button_click)\n",
        "display(button, output)"
      ],
      "execution_count": null,
      "outputs": [
        {
          "output_type": "display_data",
          "data": {
            "application/vnd.jupyter.widget-view+json": {
              "model_id": "7f1482f28d5045a29bb57e16fa9789c4",
              "version_minor": 0,
              "version_major": 2
            },
            "text/plain": [
              "Button(description='Кнопка!', style=ButtonStyle())"
            ]
          },
          "metadata": {
            "tags": []
          }
        },
        {
          "output_type": "display_data",
          "data": {
            "application/vnd.jupyter.widget-view+json": {
              "model_id": "2e78ea0ed25244d0bfb81c41f8b191c8",
              "version_minor": 0,
              "version_major": 2
            },
            "text/plain": [
              "Output()"
            ]
          },
          "metadata": {
            "tags": []
          }
        }
      ]
    },
    {
      "cell_type": "markdown",
      "metadata": {
        "id": "9rzmPN_14aXD"
      },
      "source": [
        "# Interact"
      ]
    },
    {
      "cell_type": "code",
      "metadata": {
        "colab": {
          "base_uri": "https://localhost:8080/",
          "height": 83,
          "referenced_widgets": [
            "791ac2e8a86641f496035fedb9c1eb01",
            "2005b3a378714ef8b935b95746c0195b",
            "0fd2ff97951c43ecb0f318a80da8157b",
            "e63988e5f41548a9bef70352a6c32bd6",
            "73120507540147cdb7fd2f66fbd18f8d",
            "ba5c2e3760ad456aaa9d96d1a39f633a",
            "0aaa3297590d4503ab25fd6f31cc4d58"
          ]
        },
        "id": "2CsGlKg8rZ49",
        "outputId": "51915a5d-9341-474f-a248-0a40eb16ebec"
      },
      "source": [
        "def say_my_name(name):\n",
        "    print(f'My name is',  (name))\n",
        "\n",
        "wd.interact(say_my_name, name=[\"Саша\", \"Маша\", \"Даша\"])"
      ],
      "execution_count": null,
      "outputs": [
        {
          "output_type": "display_data",
          "data": {
            "application/vnd.jupyter.widget-view+json": {
              "model_id": "791ac2e8a86641f496035fedb9c1eb01",
              "version_minor": 0,
              "version_major": 2
            },
            "text/plain": [
              "interactive(children=(Dropdown(description='name', options=('Саша', 'Маша', 'Даша'), value='Саша'), Output()),…"
            ]
          },
          "metadata": {
            "tags": []
          }
        },
        {
          "output_type": "execute_result",
          "data": {
            "text/plain": [
              "<function __main__.say_my_name>"
            ]
          },
          "metadata": {
            "tags": []
          },
          "execution_count": 10
        }
      ]
    },
    {
      "cell_type": "markdown",
      "metadata": {
        "id": "pB5L4dUS4qOE"
      },
      "source": [
        "# Sin"
      ]
    },
    {
      "cell_type": "code",
      "metadata": {
        "colab": {
          "base_uri": "https://localhost:8080/"
        },
        "id": "K2dB4P3arqSx",
        "outputId": "01d28ea6-3feb-4c15-ec27-4faacc9ccc24"
      },
      "source": [
        "import numpy as np\n",
        "import matplotlib.pyplot as plt\n",
        "%matplotlib -l\n",
        "%matplotlib inline"
      ],
      "execution_count": null,
      "outputs": [
        {
          "output_type": "stream",
          "text": [
            "Available matplotlib backends: ['tk', 'gtk', 'gtk3', 'wx', 'qt4', 'qt5', 'qt', 'osx', 'nbagg', 'notebook', 'agg', 'inline', 'ipympl', 'widget']\n"
          ],
          "name": "stdout"
        }
      ]
    },
    {
      "cell_type": "code",
      "metadata": {
        "id": "tX8aUq2Grudc"
      },
      "source": [
        "x = np.linspace(0, 2 * np.pi, 100)"
      ],
      "execution_count": null,
      "outputs": []
    },
    {
      "cell_type": "code",
      "metadata": {
        "colab": {
          "base_uri": "https://localhost:8080/",
          "height": 395,
          "referenced_widgets": [
            "235a9e85dc6944199964f520d5829a50",
            "730eab6e30e441ff8dd2f00a7e6d6ac2",
            "b6aa4944ffe84ca2bc8a000292bca83e",
            "6f7ff6ea40e6450187fa88f98ce5b859",
            "ac7dbc0e3f524c15be447cc289d47ea2",
            "5299cac933e7457e8cf2350be88a4dae",
            "7351ae1c6b984f0fb71d3106977e5729",
            "0ffa26f447084e20bfbf2b9cac057562",
            "8bf468ad143f426283b110f850847036",
            "eb29a236117d48979fb22de1635defcc",
            "7c1ce2b18f78453ca86ae2064d327dbc",
            "14e7b5fea8b842f795ed58ace6a91864",
            "02300d1ace0c4206a78ab782bf044b53"
          ]
        },
        "id": "33o3WfY6ru3Z",
        "outputId": "fcd185ea-d5df-429a-9a6d-f3622d16eff0"
      },
      "source": [
        "def my_sin(x, amp, w, phi):\n",
        "  return (amp*np.sin(w*(x - phi)))\n",
        "def draw_sin(w, amp, phi):\n",
        "  y = my_sin(x, amp, w, phi)\n",
        "  fig, ax = plt.subplots()\n",
        "  ax.grid(True)\n",
        "  ax.plot(x, y, color='blue')\n",
        "  print(w, amp, phi)\n",
        "wd.interact(draw_sin, w=(0,10,1), amp = (0,4,.1), phi=(0,2*np.pi + 0.01, 0.01))"
      ],
      "execution_count": null,
      "outputs": [
        {
          "output_type": "display_data",
          "data": {
            "application/vnd.jupyter.widget-view+json": {
              "model_id": "235a9e85dc6944199964f520d5829a50",
              "version_minor": 0,
              "version_major": 2
            },
            "text/plain": [
              "interactive(children=(IntSlider(value=5, description='w', max=10), FloatSlider(value=2.0, description='amp', m…"
            ]
          },
          "metadata": {
            "tags": []
          }
        },
        {
          "output_type": "execute_result",
          "data": {
            "text/plain": [
              "<function __main__.draw_sin>"
            ]
          },
          "metadata": {
            "tags": []
          },
          "execution_count": 13
        }
      ]
    },
    {
      "cell_type": "markdown",
      "metadata": {
        "id": "gsZswkgi4yb9"
      },
      "source": [
        "# Data"
      ]
    },
    {
      "cell_type": "code",
      "metadata": {
        "id": "QncnuG8Yr6Cx"
      },
      "source": [
        "import pandas as pd"
      ],
      "execution_count": null,
      "outputs": []
    },
    {
      "cell_type": "code",
      "metadata": {
        "id": "EhrRV3chr6nS"
      },
      "source": [
        "data = pd.read_csv(\"/content/sample_data/california_housing_test.csv\")"
      ],
      "execution_count": null,
      "outputs": []
    },
    {
      "cell_type": "code",
      "metadata": {
        "colab": {
          "base_uri": "https://localhost:8080/"
        },
        "id": "Q1_4LZgqr-Yp",
        "outputId": "598db211-4bd2-4a8e-9608-eaa1845505de"
      },
      "source": [
        "data.info()"
      ],
      "execution_count": null,
      "outputs": [
        {
          "output_type": "stream",
          "text": [
            "<class 'pandas.core.frame.DataFrame'>\n",
            "RangeIndex: 3000 entries, 0 to 2999\n",
            "Data columns (total 9 columns):\n",
            " #   Column              Non-Null Count  Dtype  \n",
            "---  ------              --------------  -----  \n",
            " 0   longitude           3000 non-null   float64\n",
            " 1   latitude            3000 non-null   float64\n",
            " 2   housing_median_age  3000 non-null   float64\n",
            " 3   total_rooms         3000 non-null   float64\n",
            " 4   total_bedrooms      3000 non-null   float64\n",
            " 5   population          3000 non-null   float64\n",
            " 6   households          3000 non-null   float64\n",
            " 7   median_income       3000 non-null   float64\n",
            " 8   median_house_value  3000 non-null   float64\n",
            "dtypes: float64(9)\n",
            "memory usage: 211.1 KB\n"
          ],
          "name": "stdout"
        }
      ]
    },
    {
      "cell_type": "code",
      "metadata": {
        "colab": {
          "base_uri": "https://localhost:8080/",
          "height": 297
        },
        "id": "KJmaJJ0NsB6n",
        "outputId": "ca8192f2-1d5a-4cbd-b53e-973c32220ad0"
      },
      "source": [
        "data.describe()"
      ],
      "execution_count": null,
      "outputs": [
        {
          "output_type": "execute_result",
          "data": {
            "text/html": [
              "<div>\n",
              "<style scoped>\n",
              "    .dataframe tbody tr th:only-of-type {\n",
              "        vertical-align: middle;\n",
              "    }\n",
              "\n",
              "    .dataframe tbody tr th {\n",
              "        vertical-align: top;\n",
              "    }\n",
              "\n",
              "    .dataframe thead th {\n",
              "        text-align: right;\n",
              "    }\n",
              "</style>\n",
              "<table border=\"1\" class=\"dataframe\">\n",
              "  <thead>\n",
              "    <tr style=\"text-align: right;\">\n",
              "      <th></th>\n",
              "      <th>longitude</th>\n",
              "      <th>latitude</th>\n",
              "      <th>housing_median_age</th>\n",
              "      <th>total_rooms</th>\n",
              "      <th>total_bedrooms</th>\n",
              "      <th>population</th>\n",
              "      <th>households</th>\n",
              "      <th>median_income</th>\n",
              "      <th>median_house_value</th>\n",
              "    </tr>\n",
              "  </thead>\n",
              "  <tbody>\n",
              "    <tr>\n",
              "      <th>count</th>\n",
              "      <td>3000.000000</td>\n",
              "      <td>3000.00000</td>\n",
              "      <td>3000.000000</td>\n",
              "      <td>3000.000000</td>\n",
              "      <td>3000.000000</td>\n",
              "      <td>3000.000000</td>\n",
              "      <td>3000.00000</td>\n",
              "      <td>3000.000000</td>\n",
              "      <td>3000.00000</td>\n",
              "    </tr>\n",
              "    <tr>\n",
              "      <th>mean</th>\n",
              "      <td>-119.589200</td>\n",
              "      <td>35.63539</td>\n",
              "      <td>28.845333</td>\n",
              "      <td>2599.578667</td>\n",
              "      <td>529.950667</td>\n",
              "      <td>1402.798667</td>\n",
              "      <td>489.91200</td>\n",
              "      <td>3.807272</td>\n",
              "      <td>205846.27500</td>\n",
              "    </tr>\n",
              "    <tr>\n",
              "      <th>std</th>\n",
              "      <td>1.994936</td>\n",
              "      <td>2.12967</td>\n",
              "      <td>12.555396</td>\n",
              "      <td>2155.593332</td>\n",
              "      <td>415.654368</td>\n",
              "      <td>1030.543012</td>\n",
              "      <td>365.42271</td>\n",
              "      <td>1.854512</td>\n",
              "      <td>113119.68747</td>\n",
              "    </tr>\n",
              "    <tr>\n",
              "      <th>min</th>\n",
              "      <td>-124.180000</td>\n",
              "      <td>32.56000</td>\n",
              "      <td>1.000000</td>\n",
              "      <td>6.000000</td>\n",
              "      <td>2.000000</td>\n",
              "      <td>5.000000</td>\n",
              "      <td>2.00000</td>\n",
              "      <td>0.499900</td>\n",
              "      <td>22500.00000</td>\n",
              "    </tr>\n",
              "    <tr>\n",
              "      <th>25%</th>\n",
              "      <td>-121.810000</td>\n",
              "      <td>33.93000</td>\n",
              "      <td>18.000000</td>\n",
              "      <td>1401.000000</td>\n",
              "      <td>291.000000</td>\n",
              "      <td>780.000000</td>\n",
              "      <td>273.00000</td>\n",
              "      <td>2.544000</td>\n",
              "      <td>121200.00000</td>\n",
              "    </tr>\n",
              "    <tr>\n",
              "      <th>50%</th>\n",
              "      <td>-118.485000</td>\n",
              "      <td>34.27000</td>\n",
              "      <td>29.000000</td>\n",
              "      <td>2106.000000</td>\n",
              "      <td>437.000000</td>\n",
              "      <td>1155.000000</td>\n",
              "      <td>409.50000</td>\n",
              "      <td>3.487150</td>\n",
              "      <td>177650.00000</td>\n",
              "    </tr>\n",
              "    <tr>\n",
              "      <th>75%</th>\n",
              "      <td>-118.020000</td>\n",
              "      <td>37.69000</td>\n",
              "      <td>37.000000</td>\n",
              "      <td>3129.000000</td>\n",
              "      <td>636.000000</td>\n",
              "      <td>1742.750000</td>\n",
              "      <td>597.25000</td>\n",
              "      <td>4.656475</td>\n",
              "      <td>263975.00000</td>\n",
              "    </tr>\n",
              "    <tr>\n",
              "      <th>max</th>\n",
              "      <td>-114.490000</td>\n",
              "      <td>41.92000</td>\n",
              "      <td>52.000000</td>\n",
              "      <td>30450.000000</td>\n",
              "      <td>5419.000000</td>\n",
              "      <td>11935.000000</td>\n",
              "      <td>4930.00000</td>\n",
              "      <td>15.000100</td>\n",
              "      <td>500001.00000</td>\n",
              "    </tr>\n",
              "  </tbody>\n",
              "</table>\n",
              "</div>"
            ],
            "text/plain": [
              "         longitude    latitude  ...  median_income  median_house_value\n",
              "count  3000.000000  3000.00000  ...    3000.000000          3000.00000\n",
              "mean   -119.589200    35.63539  ...       3.807272        205846.27500\n",
              "std       1.994936     2.12967  ...       1.854512        113119.68747\n",
              "min    -124.180000    32.56000  ...       0.499900         22500.00000\n",
              "25%    -121.810000    33.93000  ...       2.544000        121200.00000\n",
              "50%    -118.485000    34.27000  ...       3.487150        177650.00000\n",
              "75%    -118.020000    37.69000  ...       4.656475        263975.00000\n",
              "max    -114.490000    41.92000  ...      15.000100        500001.00000\n",
              "\n",
              "[8 rows x 9 columns]"
            ]
          },
          "metadata": {
            "tags": []
          },
          "execution_count": 17
        }
      ]
    },
    {
      "cell_type": "markdown",
      "metadata": {
        "id": "8e97Hi_h45Ve"
      },
      "source": [
        "# **Задание 2. Формы и виджеты при разработке GUI в Jupyter Notebook**"
      ]
    },
    {
      "cell_type": "code",
      "metadata": {
        "colab": {
          "base_uri": "https://localhost:8080/",
          "height": 81,
          "referenced_widgets": [
            "3fa45d8742854928895135402b9e2af0",
            "0824629529f64f25b30b7d3743a54b30",
            "1f02a94a1b6d41b3ac076daba46fa79f",
            "412856ae9409411fa2860ebaf21cb557",
            "d02397dcda844fce85a98689ce6aa1b9",
            "3e2788ed568648ecb85d1477e0e7fa2a",
            "61b107a9190349fcb36ceb3476f9fdd7",
            "0081de04d5b84938adbc0bfc603a4a27",
            "27d83c2c249a4bec8941bd47a4393383",
            "af9e3afd63024f528c4ad599014f8aef"
          ]
        },
        "id": "8j_kc3-9sDxX",
        "outputId": "210b8029-c768-442f-cb68-3f2259307218"
      },
      "source": [
        "button = wd.Button(description=\"INFO\")\n",
        "output = wd.Output()\n",
        "\n",
        "def  on_my_button_click(b):\n",
        "    with output:\n",
        "        print(data.info())\n",
        "        print('_________________________')\n",
        "button.on_click(on_my_button_click)\n",
        "display(button, output)\n",
        "\n",
        "button = wd.Button(description=\"DESCRIBE\")\n",
        "output = wd.Output()\n",
        "\n",
        "def  on_my_button_click(b):\n",
        "    with output:\n",
        "        print(data.describe())\n",
        "        print('_________________________')\n",
        "button.on_click(on_my_button_click)\n",
        "display(button, output)"
      ],
      "execution_count": null,
      "outputs": [
        {
          "output_type": "display_data",
          "data": {
            "application/vnd.jupyter.widget-view+json": {
              "model_id": "3fa45d8742854928895135402b9e2af0",
              "version_minor": 0,
              "version_major": 2
            },
            "text/plain": [
              "Button(description='INFO', style=ButtonStyle())"
            ]
          },
          "metadata": {
            "tags": []
          }
        },
        {
          "output_type": "display_data",
          "data": {
            "application/vnd.jupyter.widget-view+json": {
              "model_id": "412856ae9409411fa2860ebaf21cb557",
              "version_minor": 0,
              "version_major": 2
            },
            "text/plain": [
              "Output()"
            ]
          },
          "metadata": {
            "tags": []
          }
        },
        {
          "output_type": "display_data",
          "data": {
            "application/vnd.jupyter.widget-view+json": {
              "model_id": "3e2788ed568648ecb85d1477e0e7fa2a",
              "version_minor": 0,
              "version_major": 2
            },
            "text/plain": [
              "Button(description='DESCRIBE', style=ButtonStyle())"
            ]
          },
          "metadata": {
            "tags": []
          }
        },
        {
          "output_type": "display_data",
          "data": {
            "application/vnd.jupyter.widget-view+json": {
              "model_id": "27d83c2c249a4bec8941bd47a4393383",
              "version_minor": 0,
              "version_major": 2
            },
            "text/plain": [
              "Output()"
            ]
          },
          "metadata": {
            "tags": []
          }
        }
      ]
    },
    {
      "cell_type": "markdown",
      "metadata": {
        "id": "50pCJrJd5JzH"
      },
      "source": [
        "# Import packages"
      ]
    },
    {
      "cell_type": "code",
      "metadata": {
        "id": "kgYWfeC5sPCu"
      },
      "source": [
        "import pandas as pd\n",
        "import numpy as np\n",
        "from IPython.display import display"
      ],
      "execution_count": null,
      "outputs": []
    },
    {
      "cell_type": "markdown",
      "metadata": {
        "id": "EXiJ9r-U5UH7"
      },
      "source": [
        "# Import data"
      ]
    },
    {
      "cell_type": "code",
      "metadata": {
        "colab": {
          "base_uri": "https://localhost:8080/",
          "height": 142
        },
        "id": "qmDb1x0LsVVu",
        "outputId": "01a92b77-dec4-4757-ac4a-7e4f47bd5764"
      },
      "source": [
        "data = pd.read_csv (\"http://archive.ics.uci.edu/ml/machine-learning-databases/glass/glass.data\",\n",
        "                   header = None)\n",
        "data.head(3)"
      ],
      "execution_count": null,
      "outputs": [
        {
          "output_type": "execute_result",
          "data": {
            "text/html": [
              "<div>\n",
              "<style scoped>\n",
              "    .dataframe tbody tr th:only-of-type {\n",
              "        vertical-align: middle;\n",
              "    }\n",
              "\n",
              "    .dataframe tbody tr th {\n",
              "        vertical-align: top;\n",
              "    }\n",
              "\n",
              "    .dataframe thead th {\n",
              "        text-align: right;\n",
              "    }\n",
              "</style>\n",
              "<table border=\"1\" class=\"dataframe\">\n",
              "  <thead>\n",
              "    <tr style=\"text-align: right;\">\n",
              "      <th></th>\n",
              "      <th>0</th>\n",
              "      <th>1</th>\n",
              "      <th>2</th>\n",
              "      <th>3</th>\n",
              "      <th>4</th>\n",
              "      <th>5</th>\n",
              "      <th>6</th>\n",
              "      <th>7</th>\n",
              "      <th>8</th>\n",
              "      <th>9</th>\n",
              "      <th>10</th>\n",
              "    </tr>\n",
              "  </thead>\n",
              "  <tbody>\n",
              "    <tr>\n",
              "      <th>0</th>\n",
              "      <td>1</td>\n",
              "      <td>1.52101</td>\n",
              "      <td>13.64</td>\n",
              "      <td>4.49</td>\n",
              "      <td>1.10</td>\n",
              "      <td>71.78</td>\n",
              "      <td>0.06</td>\n",
              "      <td>8.75</td>\n",
              "      <td>0.0</td>\n",
              "      <td>0.0</td>\n",
              "      <td>1</td>\n",
              "    </tr>\n",
              "    <tr>\n",
              "      <th>1</th>\n",
              "      <td>2</td>\n",
              "      <td>1.51761</td>\n",
              "      <td>13.89</td>\n",
              "      <td>3.60</td>\n",
              "      <td>1.36</td>\n",
              "      <td>72.73</td>\n",
              "      <td>0.48</td>\n",
              "      <td>7.83</td>\n",
              "      <td>0.0</td>\n",
              "      <td>0.0</td>\n",
              "      <td>1</td>\n",
              "    </tr>\n",
              "    <tr>\n",
              "      <th>2</th>\n",
              "      <td>3</td>\n",
              "      <td>1.51618</td>\n",
              "      <td>13.53</td>\n",
              "      <td>3.55</td>\n",
              "      <td>1.54</td>\n",
              "      <td>72.99</td>\n",
              "      <td>0.39</td>\n",
              "      <td>7.78</td>\n",
              "      <td>0.0</td>\n",
              "      <td>0.0</td>\n",
              "      <td>1</td>\n",
              "    </tr>\n",
              "  </tbody>\n",
              "</table>\n",
              "</div>"
            ],
            "text/plain": [
              "   0        1      2     3     4      5     6     7    8    9   10\n",
              "0   1  1.52101  13.64  4.49  1.10  71.78  0.06  8.75  0.0  0.0   1\n",
              "1   2  1.51761  13.89  3.60  1.36  72.73  0.48  7.83  0.0  0.0   1\n",
              "2   3  1.51618  13.53  3.55  1.54  72.99  0.39  7.78  0.0  0.0   1"
            ]
          },
          "metadata": {
            "tags": []
          },
          "execution_count": 20
        }
      ]
    },
    {
      "cell_type": "code",
      "metadata": {
        "colab": {
          "base_uri": "https://localhost:8080/",
          "height": 142
        },
        "id": "re8eBTlAsa56",
        "outputId": "8272ba29-ae89-4128-9b86-8946d8219c31"
      },
      "source": [
        "names = [\"Id\", \"RI\", \"Na\", \"Mg\", \"Al\", \"Si\", \"K\", \"Ca\", \"Ba\", \"Fe\", \"Class\"]\n",
        "data.columns = names\n",
        "data = data.drop(columns=['Id'])\n",
        "data.head(3)"
      ],
      "execution_count": null,
      "outputs": [
        {
          "output_type": "execute_result",
          "data": {
            "text/html": [
              "<div>\n",
              "<style scoped>\n",
              "    .dataframe tbody tr th:only-of-type {\n",
              "        vertical-align: middle;\n",
              "    }\n",
              "\n",
              "    .dataframe tbody tr th {\n",
              "        vertical-align: top;\n",
              "    }\n",
              "\n",
              "    .dataframe thead th {\n",
              "        text-align: right;\n",
              "    }\n",
              "</style>\n",
              "<table border=\"1\" class=\"dataframe\">\n",
              "  <thead>\n",
              "    <tr style=\"text-align: right;\">\n",
              "      <th></th>\n",
              "      <th>RI</th>\n",
              "      <th>Na</th>\n",
              "      <th>Mg</th>\n",
              "      <th>Al</th>\n",
              "      <th>Si</th>\n",
              "      <th>K</th>\n",
              "      <th>Ca</th>\n",
              "      <th>Ba</th>\n",
              "      <th>Fe</th>\n",
              "      <th>Class</th>\n",
              "    </tr>\n",
              "  </thead>\n",
              "  <tbody>\n",
              "    <tr>\n",
              "      <th>0</th>\n",
              "      <td>1.52101</td>\n",
              "      <td>13.64</td>\n",
              "      <td>4.49</td>\n",
              "      <td>1.10</td>\n",
              "      <td>71.78</td>\n",
              "      <td>0.06</td>\n",
              "      <td>8.75</td>\n",
              "      <td>0.0</td>\n",
              "      <td>0.0</td>\n",
              "      <td>1</td>\n",
              "    </tr>\n",
              "    <tr>\n",
              "      <th>1</th>\n",
              "      <td>1.51761</td>\n",
              "      <td>13.89</td>\n",
              "      <td>3.60</td>\n",
              "      <td>1.36</td>\n",
              "      <td>72.73</td>\n",
              "      <td>0.48</td>\n",
              "      <td>7.83</td>\n",
              "      <td>0.0</td>\n",
              "      <td>0.0</td>\n",
              "      <td>1</td>\n",
              "    </tr>\n",
              "    <tr>\n",
              "      <th>2</th>\n",
              "      <td>1.51618</td>\n",
              "      <td>13.53</td>\n",
              "      <td>3.55</td>\n",
              "      <td>1.54</td>\n",
              "      <td>72.99</td>\n",
              "      <td>0.39</td>\n",
              "      <td>7.78</td>\n",
              "      <td>0.0</td>\n",
              "      <td>0.0</td>\n",
              "      <td>1</td>\n",
              "    </tr>\n",
              "  </tbody>\n",
              "</table>\n",
              "</div>"
            ],
            "text/plain": [
              "        RI     Na    Mg    Al     Si     K    Ca   Ba   Fe  Class\n",
              "0  1.52101  13.64  4.49  1.10  71.78  0.06  8.75  0.0  0.0      1\n",
              "1  1.51761  13.89  3.60  1.36  72.73  0.48  7.83  0.0  0.0      1\n",
              "2  1.51618  13.53  3.55  1.54  72.99  0.39  7.78  0.0  0.0      1"
            ]
          },
          "metadata": {
            "tags": []
          },
          "execution_count": 21
        }
      ]
    },
    {
      "cell_type": "code",
      "metadata": {
        "colab": {
          "base_uri": "https://localhost:8080/"
        },
        "id": "IcBhZG0LsfAt",
        "outputId": "8b763280-8fd4-4f4e-a2f2-3397f8d32bfb"
      },
      "source": [
        "data['Class'].replace({1:\"building_float\", \n",
        "                       2:\"building_non_float\", \n",
        "                       3:\"vehicle_float\",\n",
        "                       4:\"vehicle_non_float\",\n",
        "                       5:\"containers\",\n",
        "                       6:\"tableware\",\n",
        "                       7:\"headlamps\"}, inplace=True)\n",
        "data['Class'].value_counts()"
      ],
      "execution_count": null,
      "outputs": [
        {
          "output_type": "execute_result",
          "data": {
            "text/plain": [
              "building_non_float    76\n",
              "building_float        70\n",
              "headlamps             29\n",
              "vehicle_float         17\n",
              "containers            13\n",
              "tableware              9\n",
              "Name: Class, dtype: int64"
            ]
          },
          "metadata": {
            "tags": []
          },
          "execution_count": 22
        }
      ]
    },
    {
      "cell_type": "code",
      "metadata": {
        "colab": {
          "base_uri": "https://localhost:8080/"
        },
        "id": "wlefSnl-sh62",
        "outputId": "552ac1a9-b4a8-444e-b812-0673a51d7426"
      },
      "source": [
        "data.info()"
      ],
      "execution_count": null,
      "outputs": [
        {
          "output_type": "stream",
          "text": [
            "<class 'pandas.core.frame.DataFrame'>\n",
            "RangeIndex: 214 entries, 0 to 213\n",
            "Data columns (total 10 columns):\n",
            " #   Column  Non-Null Count  Dtype  \n",
            "---  ------  --------------  -----  \n",
            " 0   RI      214 non-null    float64\n",
            " 1   Na      214 non-null    float64\n",
            " 2   Mg      214 non-null    float64\n",
            " 3   Al      214 non-null    float64\n",
            " 4   Si      214 non-null    float64\n",
            " 5   K       214 non-null    float64\n",
            " 6   Ca      214 non-null    float64\n",
            " 7   Ba      214 non-null    float64\n",
            " 8   Fe      214 non-null    float64\n",
            " 9   Class   214 non-null    object \n",
            "dtypes: float64(9), object(1)\n",
            "memory usage: 16.8+ KB\n"
          ],
          "name": "stdout"
        }
      ]
    },
    {
      "cell_type": "code",
      "metadata": {
        "id": "dt6KHLj4sjUY"
      },
      "source": [
        " for col in data.columns:\n",
        "      fr = np.random.randint(5,10)/100\n",
        "      data.loc[data.sample(frac=fr).index, col] = np.nan"
      ],
      "execution_count": null,
      "outputs": []
    },
    {
      "cell_type": "markdown",
      "metadata": {
        "id": "ely-Tqiq5cei"
      },
      "source": [
        "# Data visualization"
      ]
    },
    {
      "cell_type": "code",
      "metadata": {
        "colab": {
          "base_uri": "https://localhost:8080/"
        },
        "id": "xCPR06PMsnI4",
        "outputId": "dfb07e40-708f-4a7c-d6e1-5d65354eeef8"
      },
      "source": [
        "data.info()"
      ],
      "execution_count": null,
      "outputs": [
        {
          "output_type": "stream",
          "text": [
            "<class 'pandas.core.frame.DataFrame'>\n",
            "RangeIndex: 214 entries, 0 to 213\n",
            "Data columns (total 10 columns):\n",
            " #   Column  Non-Null Count  Dtype  \n",
            "---  ------  --------------  -----  \n",
            " 0   RI      201 non-null    float64\n",
            " 1   Na      201 non-null    float64\n",
            " 2   Mg      203 non-null    float64\n",
            " 3   Al      195 non-null    float64\n",
            " 4   Si      201 non-null    float64\n",
            " 5   K       197 non-null    float64\n",
            " 6   Ca      201 non-null    float64\n",
            " 7   Ba      201 non-null    float64\n",
            " 8   Fe      203 non-null    float64\n",
            " 9   Class   199 non-null    object \n",
            "dtypes: float64(9), object(1)\n",
            "memory usage: 16.8+ KB\n"
          ],
          "name": "stdout"
        }
      ]
    },
    {
      "cell_type": "code",
      "metadata": {
        "colab": {
          "base_uri": "https://localhost:8080/",
          "height": 297
        },
        "id": "GrVxc7vrs3FL",
        "outputId": "f7fa05ec-e6de-4914-b435-5fc77fcc74fb"
      },
      "source": [
        "data.describe()"
      ],
      "execution_count": null,
      "outputs": [
        {
          "output_type": "execute_result",
          "data": {
            "text/html": [
              "<div>\n",
              "<style scoped>\n",
              "    .dataframe tbody tr th:only-of-type {\n",
              "        vertical-align: middle;\n",
              "    }\n",
              "\n",
              "    .dataframe tbody tr th {\n",
              "        vertical-align: top;\n",
              "    }\n",
              "\n",
              "    .dataframe thead th {\n",
              "        text-align: right;\n",
              "    }\n",
              "</style>\n",
              "<table border=\"1\" class=\"dataframe\">\n",
              "  <thead>\n",
              "    <tr style=\"text-align: right;\">\n",
              "      <th></th>\n",
              "      <th>RI</th>\n",
              "      <th>Na</th>\n",
              "      <th>Mg</th>\n",
              "      <th>Al</th>\n",
              "      <th>Si</th>\n",
              "      <th>K</th>\n",
              "      <th>Ca</th>\n",
              "      <th>Ba</th>\n",
              "      <th>Fe</th>\n",
              "    </tr>\n",
              "  </thead>\n",
              "  <tbody>\n",
              "    <tr>\n",
              "      <th>count</th>\n",
              "      <td>201.000000</td>\n",
              "      <td>201.000000</td>\n",
              "      <td>203.000000</td>\n",
              "      <td>195.000000</td>\n",
              "      <td>201.000000</td>\n",
              "      <td>197.000000</td>\n",
              "      <td>201.000000</td>\n",
              "      <td>201.000000</td>\n",
              "      <td>203.000000</td>\n",
              "    </tr>\n",
              "    <tr>\n",
              "      <th>mean</th>\n",
              "      <td>1.518374</td>\n",
              "      <td>13.401592</td>\n",
              "      <td>2.715911</td>\n",
              "      <td>1.457897</td>\n",
              "      <td>72.647960</td>\n",
              "      <td>0.495736</td>\n",
              "      <td>9.000299</td>\n",
              "      <td>0.175224</td>\n",
              "      <td>0.058227</td>\n",
              "    </tr>\n",
              "    <tr>\n",
              "      <th>std</th>\n",
              "      <td>0.003110</td>\n",
              "      <td>0.820631</td>\n",
              "      <td>1.422130</td>\n",
              "      <td>0.497820</td>\n",
              "      <td>0.788054</td>\n",
              "      <td>0.675964</td>\n",
              "      <td>1.438907</td>\n",
              "      <td>0.500657</td>\n",
              "      <td>0.098392</td>\n",
              "    </tr>\n",
              "    <tr>\n",
              "      <th>min</th>\n",
              "      <td>1.511150</td>\n",
              "      <td>10.730000</td>\n",
              "      <td>0.000000</td>\n",
              "      <td>0.290000</td>\n",
              "      <td>69.810000</td>\n",
              "      <td>0.000000</td>\n",
              "      <td>5.430000</td>\n",
              "      <td>0.000000</td>\n",
              "      <td>0.000000</td>\n",
              "    </tr>\n",
              "    <tr>\n",
              "      <th>25%</th>\n",
              "      <td>1.516460</td>\n",
              "      <td>12.930000</td>\n",
              "      <td>2.220000</td>\n",
              "      <td>1.190000</td>\n",
              "      <td>72.280000</td>\n",
              "      <td>0.120000</td>\n",
              "      <td>8.270000</td>\n",
              "      <td>0.000000</td>\n",
              "      <td>0.000000</td>\n",
              "    </tr>\n",
              "    <tr>\n",
              "      <th>50%</th>\n",
              "      <td>1.517660</td>\n",
              "      <td>13.310000</td>\n",
              "      <td>3.480000</td>\n",
              "      <td>1.370000</td>\n",
              "      <td>72.790000</td>\n",
              "      <td>0.550000</td>\n",
              "      <td>8.620000</td>\n",
              "      <td>0.000000</td>\n",
              "      <td>0.000000</td>\n",
              "    </tr>\n",
              "    <tr>\n",
              "      <th>75%</th>\n",
              "      <td>1.519150</td>\n",
              "      <td>13.810000</td>\n",
              "      <td>3.610000</td>\n",
              "      <td>1.635000</td>\n",
              "      <td>73.100000</td>\n",
              "      <td>0.600000</td>\n",
              "      <td>9.260000</td>\n",
              "      <td>0.000000</td>\n",
              "      <td>0.100000</td>\n",
              "    </tr>\n",
              "    <tr>\n",
              "      <th>max</th>\n",
              "      <td>1.533930</td>\n",
              "      <td>17.380000</td>\n",
              "      <td>4.490000</td>\n",
              "      <td>3.500000</td>\n",
              "      <td>75.410000</td>\n",
              "      <td>6.210000</td>\n",
              "      <td>16.190000</td>\n",
              "      <td>3.150000</td>\n",
              "      <td>0.510000</td>\n",
              "    </tr>\n",
              "  </tbody>\n",
              "</table>\n",
              "</div>"
            ],
            "text/plain": [
              "               RI          Na          Mg  ...          Ca          Ba          Fe\n",
              "count  201.000000  201.000000  203.000000  ...  201.000000  201.000000  203.000000\n",
              "mean     1.518374   13.401592    2.715911  ...    9.000299    0.175224    0.058227\n",
              "std      0.003110    0.820631    1.422130  ...    1.438907    0.500657    0.098392\n",
              "min      1.511150   10.730000    0.000000  ...    5.430000    0.000000    0.000000\n",
              "25%      1.516460   12.930000    2.220000  ...    8.270000    0.000000    0.000000\n",
              "50%      1.517660   13.310000    3.480000  ...    8.620000    0.000000    0.000000\n",
              "75%      1.519150   13.810000    3.610000  ...    9.260000    0.000000    0.100000\n",
              "max      1.533930   17.380000    4.490000  ...   16.190000    3.150000    0.510000\n",
              "\n",
              "[8 rows x 9 columns]"
            ]
          },
          "metadata": {
            "tags": []
          },
          "execution_count": 26
        }
      ]
    },
    {
      "cell_type": "code",
      "metadata": {
        "colab": {
          "base_uri": "https://localhost:8080/",
          "height": 255
        },
        "id": "1N_J9OgKs8nj",
        "outputId": "8017c60f-332f-4880-9712-24411e818782"
      },
      "source": [
        "print('_______________________')\n",
        "display(data['Class'].describe())\n",
        "print('_______________________')\n",
        "display(data['Class'].value_counts())"
      ],
      "execution_count": null,
      "outputs": [
        {
          "output_type": "stream",
          "text": [
            "_______________________\n"
          ],
          "name": "stdout"
        },
        {
          "output_type": "display_data",
          "data": {
            "text/plain": [
              "count                    199\n",
              "unique                     6\n",
              "top       building_non_float\n",
              "freq                      69\n",
              "Name: Class, dtype: object"
            ]
          },
          "metadata": {
            "tags": []
          }
        },
        {
          "output_type": "stream",
          "text": [
            "_______________________\n"
          ],
          "name": "stdout"
        },
        {
          "output_type": "display_data",
          "data": {
            "text/plain": [
              "building_non_float    69\n",
              "building_float        65\n",
              "headlamps             29\n",
              "vehicle_float         15\n",
              "containers            12\n",
              "tableware              9\n",
              "Name: Class, dtype: int64"
            ]
          },
          "metadata": {
            "tags": []
          }
        }
      ]
    },
    {
      "cell_type": "markdown",
      "metadata": {
        "id": "d3_e93kL5nQn"
      },
      "source": [
        "# Git"
      ]
    },
    {
      "cell_type": "code",
      "metadata": {
        "colab": {
          "base_uri": "https://localhost:8080/"
        },
        "id": "RtDCP7s2s_8J",
        "outputId": "3ee6de9f-dd46-4630-9ac6-14ea3b0c4c32"
      },
      "source": [
        "!git init"
      ],
      "execution_count": null,
      "outputs": [
        {
          "output_type": "stream",
          "text": [
            "Initialized empty Git repository in /content/.git/\n"
          ],
          "name": "stdout"
        }
      ]
    },
    {
      "cell_type": "code",
      "metadata": {
        "id": "KcK7YqbHtEaY"
      },
      "source": [
        "!git config --global user.email marikayanceva2001@gmail.ru\n",
        "!git config --global user.name Mary"
      ],
      "execution_count": null,
      "outputs": []
    },
    {
      "cell_type": "code",
      "metadata": {
        "colab": {
          "base_uri": "https://localhost:8080/"
        },
        "id": "EomdpsmEtNAp",
        "outputId": "6d6a2452-2ecc-40e8-9cde-9bf6c87e56d6"
      },
      "source": [
        "!git status"
      ],
      "execution_count": null,
      "outputs": [
        {
          "output_type": "stream",
          "text": [
            "On branch master\n",
            "\n",
            "No commits yet\n",
            "\n",
            "Untracked files:\n",
            "  (use \"git add <file>...\" to include in what will be committed)\n",
            "\n",
            "\t\u001b[31m.config/\u001b[m\n",
            "\t\u001b[31msample_data/\u001b[m\n",
            "\n",
            "nothing added to commit but untracked files present (use \"git add\" to track)\n"
          ],
          "name": "stdout"
        }
      ]
    },
    {
      "cell_type": "code",
      "metadata": {
        "id": "1oYLR1PptY-s",
        "colab": {
          "base_uri": "https://localhost:8080/"
        },
        "outputId": "e52c4177-5525-4730-fe52-e9c829a81c5c"
      },
      "source": [
        "from google.colab import drive\n",
        "drive.mount('/content/PR3')"
      ],
      "execution_count": null,
      "outputs": [
        {
          "output_type": "stream",
          "text": [
            "Mounted at /content/PR3\n"
          ],
          "name": "stdout"
        }
      ]
    },
    {
      "cell_type": "markdown",
      "metadata": {
        "id": "a8rKHuq86C69"
      },
      "source": [
        "# ..."
      ]
    },
    {
      "cell_type": "code",
      "metadata": {
        "id": "Eaux19FsuvQT",
        "colab": {
          "base_uri": "https://localhost:8080/"
        },
        "outputId": "cf516b55-0772-47e6-b990-567cd9ba10ee"
      },
      "source": [
        "data['Al'].isna().sum()"
      ],
      "execution_count": null,
      "outputs": [
        {
          "output_type": "execute_result",
          "data": {
            "text/plain": [
              "19"
            ]
          },
          "metadata": {
            "tags": []
          },
          "execution_count": 35
        }
      ]
    },
    {
      "cell_type": "code",
      "metadata": {
        "id": "Fts13I6nuy6E",
        "colab": {
          "base_uri": "https://localhost:8080/"
        },
        "outputId": "5fafe1c6-26a6-4f21-8c05-34c655fe08f2"
      },
      "source": [
        "for col in data.columns:\n",
        "  missing_values_counts = data[col].isna().sum()\n",
        "  percentage = 100*missing_values_counts/len(data[col])\n",
        "  print(\"Column\", col, \"contains\", missing_values_counts, \"NULL values(\", percentage, \"% ).\")"
      ],
      "execution_count": null,
      "outputs": [
        {
          "output_type": "stream",
          "text": [
            "Column RI contains 13 NULL values( 6.074766355140187 % ).\n",
            "Column Na contains 13 NULL values( 6.074766355140187 % ).\n",
            "Column Mg contains 11 NULL values( 5.140186915887851 % ).\n",
            "Column Al contains 19 NULL values( 8.878504672897197 % ).\n",
            "Column Si contains 13 NULL values( 6.074766355140187 % ).\n",
            "Column K contains 17 NULL values( 7.94392523364486 % ).\n",
            "Column Ca contains 13 NULL values( 6.074766355140187 % ).\n",
            "Column Ba contains 13 NULL values( 6.074766355140187 % ).\n",
            "Column Fe contains 11 NULL values( 5.140186915887851 % ).\n",
            "Column Class contains 15 NULL values( 7.009345794392523 % ).\n"
          ],
          "name": "stdout"
        }
      ]
    },
    {
      "cell_type": "code",
      "metadata": {
        "id": "67n5nwE0u3be"
      },
      "source": [
        "import matplotlib.pyplot as plt\n",
        "import seaborn as sns"
      ],
      "execution_count": null,
      "outputs": []
    },
    {
      "cell_type": "markdown",
      "metadata": {
        "id": "OMWGazmx6WKY"
      },
      "source": [
        "# Histograms"
      ]
    },
    {
      "cell_type": "code",
      "metadata": {
        "id": "Ig6mfQrSu5Lm",
        "colab": {
          "base_uri": "https://localhost:8080/",
          "height": 304
        },
        "outputId": "d3e50568-81f9-4100-e7ab-58b2bf475b26"
      },
      "source": [
        "col='Fe'\n",
        "fig, ax = plt.subplots()\n",
        "ax.hist(data[col], bins=20)\n",
        "ax.set_xlabel(col, fontsize=16)\n",
        "ax.set_title(\"Гистограмма для  \" + str(col), fontsize=18)\n",
        "plt.show()"
      ],
      "execution_count": null,
      "outputs": [
        {
          "output_type": "display_data",
          "data": {
            "image/png": "[encoded data removed]",
            "text/plain": [
              "<Figure size 432x288 with 1 Axes>"
            ]
          },
          "metadata": {
            "tags": [],
            "needs_background": "light"
          }
        }
      ]
    },
    {
      "cell_type": "code",
      "metadata": {
        "id": "oGzbNgEEu-8g",
        "colab": {
          "base_uri": "https://localhost:8080/",
          "height": 284
        },
        "outputId": "4fd3531d-dc2d-40ac-d145-69b523d4ee66"
      },
      "source": [
        "ax = data[col].plot(kind='hist')\n",
        "ax.set_xlabel(col, fontsize=16)\n",
        "plt.show()"
      ],
      "execution_count": null,
      "outputs": [
        {
          "output_type": "display_data",
          "data": {
            "image/png": "[encoded data removed]",
            "text/plain": [
              "<Figure size 432x288 with 1 Axes>"
            ]
          },
          "metadata": {
            "tags": [],
            "needs_background": "light"
          }
        }
      ]
    },
    {
      "cell_type": "code",
      "metadata": {
        "id": "tYpiyvzevCyV",
        "colab": {
          "base_uri": "https://localhost:8080/",
          "height": 282
        },
        "outputId": "e2e44c37-b934-455a-87a9-e9d2ebaec2ac"
      },
      "source": [
        "sns.histplot(data=data, x=col, kde=True, stat='probability', bins=20)\n",
        "plt.show()"
      ],
      "execution_count": null,
      "outputs": [
        {
          "output_type": "display_data",
          "data": {
            "image/png": "[encoded data removed]",
            "text/plain": [
              "<Figure size 432x288 with 1 Axes>"
            ]
          },
          "metadata": {
            "tags": [],
            "needs_background": "light"
          }
        }
      ]
    },
    {
      "cell_type": "markdown",
      "metadata": {
        "id": "D619OIhQ6fWw"
      },
      "source": [
        "# Bar"
      ]
    },
    {
      "cell_type": "code",
      "metadata": {
        "id": "CVElsN0svE0F",
        "colab": {
          "base_uri": "https://localhost:8080/",
          "height": 467
        },
        "outputId": "26a2bbff-d022-4f19-f63f-e47b4a20466d"
      },
      "source": [
        "col='Class'\n",
        "\n",
        "fig, ax = plt.subplots(figsize=(12,6))\n",
        "\n",
        "ax.bar(data[col].value_counts().index.values, \n",
        "       data[col].value_counts().values)\n",
        "\n",
        "ax.set_xlabel(None, fontsize=16)\n",
        "ax.set_title('Barplot для '+str(col), fontsize=16)\n",
        "ax.tick_params(axis='x', which='major', \n",
        "               labelsize=14, rotation=35)\n",
        "\n",
        "plt.show()"
      ],
      "execution_count": null,
      "outputs": [
        {
          "output_type": "display_data",
          "data": {
            "image/png": "[encoded data removed]",
            "text/plain": [
              "<Figure size 864x432 with 1 Axes>"
            ]
          },
          "metadata": {
            "tags": [],
            "needs_background": "light"
          }
        }
      ]
    },
    {
      "cell_type": "markdown",
      "metadata": {
        "id": "BSWt5-rE6kfQ"
      },
      "source": [
        "# Boxplot"
      ]
    },
    {
      "cell_type": "code",
      "metadata": {
        "id": "dErBgd5ZvLMp",
        "colab": {
          "base_uri": "https://localhost:8080/",
          "height": 265
        },
        "outputId": "8a58560b-b39e-45e5-b650-b34e66d13ab4"
      },
      "source": [
        "col='Fe'\n",
        "\n",
        "fig, ax = plt.subplots()\n",
        "\n",
        "data1 = data[col][~np.isnan(data[col])].copy()\n",
        "\n",
        "ax.boxplot(data1, showmeans=True) \n",
        "\n",
        "plt.show()"
      ],
      "execution_count": null,
      "outputs": [
        {
          "output_type": "display_data",
          "data": {
            "image/png": "[encoded data removed]",
            "text/plain": [
              "<Figure size 432x288 with 1 Axes>"
            ]
          },
          "metadata": {
            "tags": [],
            "needs_background": "light"
          }
        }
      ]
    },
    {
      "cell_type": "code",
      "metadata": {
        "id": "vAII-w2MvNEG",
        "colab": {
          "base_uri": "https://localhost:8080/",
          "height": 265
        },
        "outputId": "132a7234-5b26-4316-9fbe-d499f0697da9"
      },
      "source": [
        "data[col].plot(kind='box')\n",
        "plt.show()"
      ],
      "execution_count": null,
      "outputs": [
        {
          "output_type": "display_data",
          "data": {
            "image/png": "[encoded data removed]",
            "text/plain": [
              "<Figure size 432x288 with 1 Axes>"
            ]
          },
          "metadata": {
            "tags": [],
            "needs_background": "light"
          }
        }
      ]
    },
    {
      "cell_type": "code",
      "metadata": {
        "id": "DVNqLgQyvP2j",
        "colab": {
          "base_uri": "https://localhost:8080/",
          "height": 319
        },
        "outputId": "7ce3fef4-74c3-4c35-cb12-efb93f78de4f"
      },
      "source": [
        "data.plot(kind='box')\n",
        "plt.show()"
      ],
      "execution_count": null,
      "outputs": [
        {
          "output_type": "stream",
          "text": [
            "/usr/local/lib/python3.7/dist-packages/numpy/core/_asarray.py:83: VisibleDeprecationWarning: Creating an ndarray from ragged nested sequences (which is a list-or-tuple of lists-or-tuples-or ndarrays with different lengths or shapes) is deprecated. If you meant to do this, you must specify 'dtype=object' when creating the ndarray\n",
            "  return array(a, dtype, copy=False, order=order)\n"
          ],
          "name": "stderr"
        },
        {
          "output_type": "display_data",
          "data": {
            "image/png": "[encoded data removed]",
            "text/plain": [
              "<Figure size 432x288 with 1 Axes>"
            ]
          },
          "metadata": {
            "tags": [],
            "needs_background": "light"
          }
        }
      ]
    },
    {
      "cell_type": "code",
      "metadata": {
        "id": "aQTchG83vTJz",
        "colab": {
          "base_uri": "https://localhost:8080/",
          "height": 265
        },
        "outputId": "b76aaf66-cbd5-4b0d-cfa8-e118f494f126"
      },
      "source": [
        "sns.boxplot(data=data[data.columns.values[data.columns.values != \"Si\"]])\n",
        "plt.show()"
      ],
      "execution_count": null,
      "outputs": [
        {
          "output_type": "display_data",
          "data": {
            "image/png": "[encoded data removed]",
            "text/plain": [
              "<Figure size 432x288 with 1 Axes>"
            ]
          },
          "metadata": {
            "tags": [],
            "needs_background": "light"
          }
        }
      ]
    },
    {
      "cell_type": "code",
      "metadata": {
        "id": "IrHzXfnXvWfe",
        "colab": {
          "base_uri": "https://localhost:8080/"
        },
        "outputId": "3ddd9c9c-7dca-4503-d5ba-958de434105a"
      },
      "source": [
        "data.columns.values[data.columns.values != \"Si\"]"
      ],
      "execution_count": null,
      "outputs": [
        {
          "output_type": "execute_result",
          "data": {
            "text/plain": [
              "array(['RI', 'Na', 'Mg', 'Al', 'K', 'Ca', 'Ba', 'Fe', 'Class'],\n",
              "      dtype=object)"
            ]
          },
          "metadata": {
            "tags": []
          },
          "execution_count": 47
        }
      ]
    },
    {
      "cell_type": "markdown",
      "metadata": {
        "id": "WTH60c5u67SC"
      },
      "source": [
        "# Scaling"
      ]
    },
    {
      "cell_type": "code",
      "metadata": {
        "id": "Jj_yo3wg6-4O"
      },
      "source": [
        "import sklearn.preprocessing as prepro"
      ],
      "execution_count": null,
      "outputs": []
    },
    {
      "cell_type": "code",
      "metadata": {
        "id": "Z3fDfiNt7Bbn"
      },
      "source": [
        "scaler1 = prepro.MinMaxScaler()\n",
        "data1 = scaler1.fit_transform(data[data.columns.values[data.columns.values!='Class']])\n",
        "data1 = pd.DataFrame(data1)"
      ],
      "execution_count": null,
      "outputs": []
    },
    {
      "cell_type": "code",
      "metadata": {
        "colab": {
          "base_uri": "https://localhost:8080/",
          "height": 265
        },
        "id": "VIL23jSQ7ElL",
        "outputId": "9b9a8156-d61a-46a1-b165-715fa264a62c"
      },
      "source": [
        "sns.boxplot(data=data1)\n",
        "plt.show()"
      ],
      "execution_count": null,
      "outputs": [
        {
          "output_type": "display_data",
          "data": {
            "image/png": "[encoded data removed]",
            "text/plain": [
              "<Figure size 432x288 with 1 Axes>"
            ]
          },
          "metadata": {
            "tags": [],
            "needs_background": "light"
          }
        }
      ]
    },
    {
      "cell_type": "code",
      "metadata": {
        "colab": {
          "base_uri": "https://localhost:8080/",
          "height": 319
        },
        "id": "ydDC2U9Q7GuV",
        "outputId": "b1beed07-ecf0-4346-dedd-83667c163ab2"
      },
      "source": [
        "data1.plot(kind='box')\n",
        "plt.show()"
      ],
      "execution_count": null,
      "outputs": [
        {
          "output_type": "stream",
          "text": [
            "/usr/local/lib/python3.7/dist-packages/numpy/core/_asarray.py:83: VisibleDeprecationWarning: Creating an ndarray from ragged nested sequences (which is a list-or-tuple of lists-or-tuples-or ndarrays with different lengths or shapes) is deprecated. If you meant to do this, you must specify 'dtype=object' when creating the ndarray\n",
            "  return array(a, dtype, copy=False, order=order)\n"
          ],
          "name": "stderr"
        },
        {
          "output_type": "display_data",
          "data": {
            "image/png": "[encoded data removed]",
            "text/plain": [
              "<Figure size 432x288 with 1 Axes>"
            ]
          },
          "metadata": {
            "tags": [],
            "needs_background": "light"
          }
        }
      ]
    },
    {
      "cell_type": "code",
      "metadata": {
        "id": "sLrKMRf37LJP"
      },
      "source": [
        "scaler2 = prepro.StandardScaler()\n",
        "data2 = scaler1.fit_transform(data[data.columns.values[data.columns.values!='Class']])\n",
        "data2 = pd.DataFrame(data2)"
      ],
      "execution_count": null,
      "outputs": []
    },
    {
      "cell_type": "code",
      "metadata": {
        "colab": {
          "base_uri": "https://localhost:8080/",
          "height": 265
        },
        "id": "t5p8GvPH7N4K",
        "outputId": "53ab93c6-7988-4c83-bf68-a2897ca33e34"
      },
      "source": [
        "sns.boxplot(data=data2)\n",
        "plt.show()"
      ],
      "execution_count": null,
      "outputs": [
        {
          "output_type": "display_data",
          "data": {
            "image/png": "[encoded data removed]",
            "text/plain": [
              "<Figure size 432x288 with 1 Axes>"
            ]
          },
          "metadata": {
            "tags": [],
            "needs_background": "light"
          }
        }
      ]
    },
    {
      "cell_type": "markdown",
      "metadata": {
        "id": "RqyKro0n7QsL"
      },
      "source": [
        "# Pairplot"
      ]
    },
    {
      "cell_type": "code",
      "metadata": {
        "id": "aOMhCQz77TZX"
      },
      "source": [
        "col1 = 'Mg'\n",
        "col2 = 'Fe'"
      ],
      "execution_count": null,
      "outputs": []
    },
    {
      "cell_type": "code",
      "metadata": {
        "colab": {
          "base_uri": "https://localhost:8080/",
          "height": 279
        },
        "id": "8zfcat0g7Wv7",
        "outputId": "3fe39e38-4cd6-4e59-df3a-9ed17b6064e2"
      },
      "source": [
        "fig, ax = plt.subplots()\n",
        " \n",
        "ax.scatter(data[col1], data[col2])\n",
        "ax.set_xlabel(col1)\n",
        "ax.set_ylabel(col2)\n",
        " \n",
        "plt.show()"
      ],
      "execution_count": null,
      "outputs": [
        {
          "output_type": "display_data",
          "data": {
            "image/png": "[encoded data removed]",
            "text/plain": [
              "<Figure size 432x288 with 1 Axes>"
            ]
          },
          "metadata": {
            "tags": [],
            "needs_background": "light"
          }
        }
      ]
    },
    {
      "cell_type": "markdown",
      "metadata": {
        "id": "pweU8vt_7a2G"
      },
      "source": [
        "# NaN"
      ]
    },
    {
      "cell_type": "code",
      "metadata": {
        "colab": {
          "base_uri": "https://localhost:8080/"
        },
        "id": "mkdeHhgm7X3n",
        "outputId": "261a7524-534f-4313-9a07-07ad15a0b9ea"
      },
      "source": [
        "data.mean()"
      ],
      "execution_count": null,
      "outputs": [
        {
          "output_type": "execute_result",
          "data": {
            "text/plain": [
              "RI     1.518374\n",
              "Na    13.401592\n",
              "Mg     2.715911\n",
              "Al     1.457897\n",
              "Si    72.647960\n",
              "K      0.495736\n",
              "Ca     9.000299\n",
              "Ba     0.175224\n",
              "Fe     0.058227\n",
              "dtype: float64"
            ]
          },
          "metadata": {
            "tags": []
          },
          "execution_count": 56
        }
      ]
    },
    {
      "cell_type": "code",
      "metadata": {
        "colab": {
          "base_uri": "https://localhost:8080/"
        },
        "id": "gjBUm4eR7fAe",
        "outputId": "88c1df7f-5f61-4d39-ae83-906fd59b1f30"
      },
      "source": [
        "data_fillna_mean = data.fillna(data.mean()).copy()\n",
        "data_fillna_mean.info()"
      ],
      "execution_count": null,
      "outputs": [
        {
          "output_type": "stream",
          "text": [
            "<class 'pandas.core.frame.DataFrame'>\n",
            "RangeIndex: 214 entries, 0 to 213\n",
            "Data columns (total 10 columns):\n",
            " #   Column  Non-Null Count  Dtype  \n",
            "---  ------  --------------  -----  \n",
            " 0   RI      214 non-null    float64\n",
            " 1   Na      214 non-null    float64\n",
            " 2   Mg      214 non-null    float64\n",
            " 3   Al      214 non-null    float64\n",
            " 4   Si      214 non-null    float64\n",
            " 5   K       214 non-null    float64\n",
            " 6   Ca      214 non-null    float64\n",
            " 7   Ba      214 non-null    float64\n",
            " 8   Fe      214 non-null    float64\n",
            " 9   Class   199 non-null    object \n",
            "dtypes: float64(9), object(1)\n",
            "memory usage: 16.8+ KB\n"
          ],
          "name": "stdout"
        }
      ]
    },
    {
      "cell_type": "code",
      "metadata": {
        "colab": {
          "base_uri": "https://localhost:8080/"
        },
        "id": "zUIlElCS7hhC",
        "outputId": "61b31896-98e0-4319-fa70-835db2936af5"
      },
      "source": [
        "data['Class'].value_counts()"
      ],
      "execution_count": null,
      "outputs": [
        {
          "output_type": "execute_result",
          "data": {
            "text/plain": [
              "building_non_float    69\n",
              "building_float        65\n",
              "headlamps             29\n",
              "vehicle_float         15\n",
              "containers            12\n",
              "tableware              9\n",
              "Name: Class, dtype: int64"
            ]
          },
          "metadata": {
            "tags": []
          },
          "execution_count": 58
        }
      ]
    },
    {
      "cell_type": "code",
      "metadata": {
        "colab": {
          "base_uri": "https://localhost:8080/",
          "height": 35
        },
        "id": "7gHRWT0A7lTf",
        "outputId": "0b577324-5b01-4c80-b389-53247dcf7e7b"
      },
      "source": [
        "data['Class'].value_counts().index.values[0]"
      ],
      "execution_count": null,
      "outputs": [
        {
          "output_type": "execute_result",
          "data": {
            "application/vnd.google.colaboratory.intrinsic+json": {
              "type": "string"
            },
            "text/plain": [
              "'building_non_float'"
            ]
          },
          "metadata": {
            "tags": []
          },
          "execution_count": 59
        }
      ]
    },
    {
      "cell_type": "code",
      "metadata": {
        "colab": {
          "base_uri": "https://localhost:8080/"
        },
        "id": "7OhmL1Wu7olM",
        "outputId": "57812bba-de4a-4a0c-a18a-5521578ae186"
      },
      "source": [
        "data['Class'].mode()"
      ],
      "execution_count": null,
      "outputs": [
        {
          "output_type": "execute_result",
          "data": {
            "text/plain": [
              "0    building_non_float\n",
              "dtype: object"
            ]
          },
          "metadata": {
            "tags": []
          },
          "execution_count": 60
        }
      ]
    },
    {
      "cell_type": "code",
      "metadata": {
        "colab": {
          "base_uri": "https://localhost:8080/"
        },
        "id": "hYTk4RiX7q-4",
        "outputId": "2dea3e38-ba30-4013-821e-ca49970e5aa5"
      },
      "source": [
        "data_fillna_mean['Class'].fillna(data['Class'].value_counts().index.values[0], inplace = True)\n",
        "data_fillna_mean.info()"
      ],
      "execution_count": null,
      "outputs": [
        {
          "output_type": "stream",
          "text": [
            "<class 'pandas.core.frame.DataFrame'>\n",
            "RangeIndex: 214 entries, 0 to 213\n",
            "Data columns (total 10 columns):\n",
            " #   Column  Non-Null Count  Dtype  \n",
            "---  ------  --------------  -----  \n",
            " 0   RI      214 non-null    float64\n",
            " 1   Na      214 non-null    float64\n",
            " 2   Mg      214 non-null    float64\n",
            " 3   Al      214 non-null    float64\n",
            " 4   Si      214 non-null    float64\n",
            " 5   K       214 non-null    float64\n",
            " 6   Ca      214 non-null    float64\n",
            " 7   Ba      214 non-null    float64\n",
            " 8   Fe      214 non-null    float64\n",
            " 9   Class   214 non-null    object \n",
            "dtypes: float64(9), object(1)\n",
            "memory usage: 16.8+ KB\n"
          ],
          "name": "stdout"
        }
      ]
    },
    {
      "cell_type": "markdown",
      "metadata": {
        "id": "3AbAus4P7uj4"
      },
      "source": [
        "# PCA"
      ]
    },
    {
      "cell_type": "code",
      "metadata": {
        "id": "w0nH11xF7sMY"
      },
      "source": [
        "from sklearn.decomposition import PCA"
      ],
      "execution_count": null,
      "outputs": []
    },
    {
      "cell_type": "code",
      "metadata": {
        "colab": {
          "base_uri": "https://localhost:8080/"
        },
        "id": "0A1GdRFn71ns",
        "outputId": "1127092a-3d53-4d11-e846-074aae9b5883"
      },
      "source": [
        "pca = PCA()\n",
        "pca.fit(data_fillna_mean[data_fillna_mean.columns.values [data_fillna_mean.columns.values  != 'Class']] )"
      ],
      "execution_count": null,
      "outputs": [
        {
          "output_type": "execute_result",
          "data": {
            "text/plain": [
              "PCA(copy=True, iterated_power='auto', n_components=None, random_state=None,\n",
              "    svd_solver='auto', tol=0.0, whiten=False)"
            ]
          },
          "metadata": {
            "tags": []
          },
          "execution_count": 63
        }
      ]
    },
    {
      "cell_type": "code",
      "metadata": {
        "colab": {
          "base_uri": "https://localhost:8080/"
        },
        "id": "srA1Q9Iu731E",
        "outputId": "dd23558a-7d73-4566-e4f8-68927aca2e56"
      },
      "source": [
        "print(pca.explained_variance_ratio_*100)"
      ],
      "execution_count": null,
      "outputs": [
        {
          "output_type": "stream",
          "text": [
            "[4.84389204e+01 2.41215701e+01 1.12254506e+01 1.01872139e+01\n",
            " 3.40859048e+00 1.74920913e+00 7.28964709e-01 1.40056326e-01\n",
            " 2.43863764e-05]\n"
          ],
          "name": "stdout"
        }
      ]
    },
    {
      "cell_type": "code",
      "metadata": {
        "colab": {
          "base_uri": "https://localhost:8080/",
          "height": 266
        },
        "id": "GkPcyhdr76FJ",
        "outputId": "2eef01ef-f82d-4cfe-c4dd-f9d351839534"
      },
      "source": [
        "_, ax = plt.subplots()\n",
        "ax.plot(np.arange(1,10), pca.explained_variance_ratio_*100)\n",
        "plt.show()"
      ],
      "execution_count": null,
      "outputs": [
        {
          "output_type": "display_data",
          "data": {
            "image/png": "[encoded data removed]",
            "text/plain": [
              "<Figure size 432x288 with 1 Axes>"
            ]
          },
          "metadata": {
            "tags": [],
            "needs_background": "light"
          }
        }
      ]
    },
    {
      "cell_type": "code",
      "metadata": {
        "colab": {
          "base_uri": "https://localhost:8080/",
          "height": 204
        },
        "id": "jFZU0BS578jG",
        "outputId": "908b3bc1-a215-44de-8961-e8946c991858"
      },
      "source": [
        "pcaData=pd.DataFrame(\n",
        "    pca.transform(data_fillna_mean[data_fillna_mean.columns.values[data_fillna_mean.columns.values != 'Class']]))\n",
        "pcaNames=[]\n",
        "for i in range(9):\n",
        "  pcaNames.append('pc'+str(i+1))\n",
        "pcaData.columns=pcaNames\n",
        "pcaData.head()"
      ],
      "execution_count": null,
      "outputs": [
        {
          "output_type": "execute_result",
          "data": {
            "text/html": [
              "<div>\n",
              "<style scoped>\n",
              "    .dataframe tbody tr th:only-of-type {\n",
              "        vertical-align: middle;\n",
              "    }\n",
              "\n",
              "    .dataframe tbody tr th {\n",
              "        vertical-align: top;\n",
              "    }\n",
              "\n",
              "    .dataframe thead th {\n",
              "        text-align: right;\n",
              "    }\n",
              "</style>\n",
              "<table border=\"1\" class=\"dataframe\">\n",
              "  <thead>\n",
              "    <tr style=\"text-align: right;\">\n",
              "      <th></th>\n",
              "      <th>pc1</th>\n",
              "      <th>pc2</th>\n",
              "      <th>pc3</th>\n",
              "      <th>pc4</th>\n",
              "      <th>pc5</th>\n",
              "      <th>pc6</th>\n",
              "      <th>pc7</th>\n",
              "      <th>pc8</th>\n",
              "      <th>pc9</th>\n",
              "    </tr>\n",
              "  </thead>\n",
              "  <tbody>\n",
              "    <tr>\n",
              "      <th>0</th>\n",
              "      <td>-1.381169</td>\n",
              "      <td>-1.136095</td>\n",
              "      <td>0.850077</td>\n",
              "      <td>-0.649791</td>\n",
              "      <td>0.128023</td>\n",
              "      <td>0.010183</td>\n",
              "      <td>-0.082125</td>\n",
              "      <td>-0.076496</td>\n",
              "      <td>-0.000870</td>\n",
              "    </tr>\n",
              "    <tr>\n",
              "      <th>1</th>\n",
              "      <td>-1.467355</td>\n",
              "      <td>0.317376</td>\n",
              "      <td>0.110310</td>\n",
              "      <td>-0.372027</td>\n",
              "      <td>-0.183670</td>\n",
              "      <td>-0.012292</td>\n",
              "      <td>-0.016617</td>\n",
              "      <td>-0.042608</td>\n",
              "      <td>-0.000999</td>\n",
              "    </tr>\n",
              "    <tr>\n",
              "      <th>2</th>\n",
              "      <td>-0.588375</td>\n",
              "      <td>-0.385826</td>\n",
              "      <td>-0.196955</td>\n",
              "      <td>-0.339923</td>\n",
              "      <td>-0.064363</td>\n",
              "      <td>-0.284101</td>\n",
              "      <td>0.382127</td>\n",
              "      <td>-0.030652</td>\n",
              "      <td>0.001117</td>\n",
              "    </tr>\n",
              "    <tr>\n",
              "      <th>3</th>\n",
              "      <td>-1.248772</td>\n",
              "      <td>-0.279055</td>\n",
              "      <td>-0.071416</td>\n",
              "      <td>0.035592</td>\n",
              "      <td>0.003521</td>\n",
              "      <td>0.062048</td>\n",
              "      <td>-0.112300</td>\n",
              "      <td>-0.011277</td>\n",
              "      <td>-0.000003</td>\n",
              "    </tr>\n",
              "    <tr>\n",
              "      <th>4</th>\n",
              "      <td>-1.303493</td>\n",
              "      <td>0.001956</td>\n",
              "      <td>-0.433988</td>\n",
              "      <td>-0.082064</td>\n",
              "      <td>0.061695</td>\n",
              "      <td>0.174676</td>\n",
              "      <td>0.097325</td>\n",
              "      <td>-0.051506</td>\n",
              "      <td>-0.000480</td>\n",
              "    </tr>\n",
              "  </tbody>\n",
              "</table>\n",
              "</div>"
            ],
            "text/plain": [
              "        pc1       pc2       pc3  ...       pc7       pc8       pc9\n",
              "0 -1.381169 -1.136095  0.850077  ... -0.082125 -0.076496 -0.000870\n",
              "1 -1.467355  0.317376  0.110310  ... -0.016617 -0.042608 -0.000999\n",
              "2 -0.588375 -0.385826 -0.196955  ...  0.382127 -0.030652  0.001117\n",
              "3 -1.248772 -0.279055 -0.071416  ... -0.112300 -0.011277 -0.000003\n",
              "4 -1.303493  0.001956 -0.433988  ...  0.097325 -0.051506 -0.000480\n",
              "\n",
              "[5 rows x 9 columns]"
            ]
          },
          "metadata": {
            "tags": []
          },
          "execution_count": 66
        }
      ]
    },
    {
      "cell_type": "code",
      "metadata": {
        "colab": {
          "base_uri": "https://localhost:8080/",
          "height": 497
        },
        "id": "sLeHhGD97-ic",
        "outputId": "7a4d1afb-9a01-4f3a-d29e-f110beb7d5ea"
      },
      "source": [
        "fig, ax = plt.subplots(figsize=(8,8))\n",
        "\n",
        "ax.scatter(pcaData['pc1'], pcaData['pc2'])\n",
        "ax.set_xlabel('pc1')\n",
        "ax.set_ylabel('pc2')\n",
        "\n",
        "plt.show()"
      ],
      "execution_count": null,
      "outputs": [
        {
          "output_type": "display_data",
          "data": {
            "image/png": "[encoded data removed]",
            "text/plain": [
              "<Figure size 576x576 with 1 Axes>"
            ]
          },
          "metadata": {
            "tags": [],
            "needs_background": "light"
          }
        }
      ]
    },
    {
      "cell_type": "code",
      "metadata": {
        "id": "vxaAbaRA8DAa"
      },
      "source": [
        "pcaData['Class'] = data_fillna_mean['Class'].copy()"
      ],
      "execution_count": null,
      "outputs": []
    },
    {
      "cell_type": "code",
      "metadata": {
        "id": "TeZtG4xB8F0R",
        "colab": {
          "base_uri": "https://localhost:8080/",
          "height": 497
        },
        "outputId": "1f8bc8f9-5faa-41bf-ceb5-56558304eccf"
      },
      "source": [
        "col1 = 'pc1'\n",
        "col2 = 'pc2'\n",
        "\n",
        "fig, ax = plt.subplots(figsize=(8,8))\n",
        "\n",
        "for glassType in pcaData['Class'].value_counts().index.values:\n",
        "  ax.scatter(pcaData[col1][ pcaData['Class']==glassType ],\n",
        "             pcaData[col2][ pcaData['Class']==glassType ],\n",
        "             label=glassType)\n",
        "\n",
        "ax.set_xlabel(col1)\n",
        "ax.set_ylabel(col2)\n",
        "ax.legend()\n",
        "\n",
        "plt.show()"
      ],
      "execution_count": null,
      "outputs": [
        {
          "output_type": "display_data",
          "data": {
            "image/png": "[encoded data removed]",
            "text/plain": [
              "<Figure size 576x576 with 1 Axes>"
            ]
          },
          "metadata": {
            "tags": [],
            "needs_background": "light"
          }
        }
      ]
    },
    {
      "cell_type": "code",
      "metadata": {
        "colab": {
          "base_uri": "https://localhost:8080/",
          "height": 466
        },
        "id": "bOS9m7138KQV",
        "outputId": "74d4bb55-a4f1-4a9c-e705-fded6a5784c2"
      },
      "source": [
        "fig = plt.figure(figsize=(8,8))\n",
        "ax = plt.axes(projection='3d')\n",
        "\n",
        "ax.scatter(pcaData['pc1'], pcaData['pc2'], pcaData['pc3'])\n",
        "ax.set_xlabel('pc1', fontsize=16)\n",
        "ax.set_ylabel('pc2', fontsize=16)\n",
        "ax.set_zlabel('pc3', fontsize=16)\n",
        "\n",
        "plt.show()"
      ],
      "execution_count": null,
      "outputs": [
        {
          "output_type": "display_data",
          "data": {
            "image/png": "[encoded data removed]",
            "text/plain": [
              "<Figure size 576x576 with 1 Axes>"
            ]
          },
          "metadata": {
            "tags": [],
            "needs_background": "light"
          }
        }
      ]
    },
    {
      "cell_type": "code",
      "metadata": {
        "colab": {
          "base_uri": "https://localhost:8080/",
          "height": 466
        },
        "id": "Io0NVpSi8L3j",
        "outputId": "5fdfa7cb-d08c-49ab-8c3e-c678c95657e3"
      },
      "source": [
        "col1 = 'pc1'\n",
        "col2 = 'pc2'\n",
        "\n",
        "fig = plt.figure(figsize=(8,8))\n",
        "ax = plt.axes(projection='3d')\n",
        "\n",
        "for glassType in pcaData['Class'].value_counts().index.values:\n",
        "  ax.scatter(pcaData['pc1'][ pcaData['Class']==glassType ], \n",
        "             pcaData['pc2'][ pcaData['Class']==glassType ], \n",
        "             pcaData['pc3'][ pcaData['Class']==glassType ],\n",
        "             label=glassType)\n",
        "\n",
        "ax.set_xlabel('pc1', fontsize=16)\n",
        "ax.set_ylabel('pc2', fontsize=16)\n",
        "ax.set_zlabel('pc3', fontsize=16)\n",
        "ax.legend()\n",
        "\n",
        "plt.show()"
      ],
      "execution_count": null,
      "outputs": [
        {
          "output_type": "display_data",
          "data": {
            "image/png": "[encoded data removed]",
            "text/plain": [
              "<Figure size 576x576 with 1 Axes>"
            ]
          },
          "metadata": {
            "tags": [],
            "needs_background": "light"
          }
        }
      ]
    },
    {
      "cell_type": "markdown",
      "metadata": {
        "id": "yeDGMjJk8VBJ"
      },
      "source": [
        "# Сorrelation"
      ]
    },
    {
      "cell_type": "code",
      "metadata": {
        "colab": {
          "base_uri": "https://localhost:8080/",
          "height": 328
        },
        "id": "D3UhrO8D8QGQ",
        "outputId": "f88d8b3a-f63b-42a6-8643-f9eb5f42d46d"
      },
      "source": [
        "corr = data_fillna_mean.corr()\n",
        "corr"
      ],
      "execution_count": null,
      "outputs": [
        {
          "output_type": "execute_result",
          "data": {
            "text/html": [
              "<div>\n",
              "<style scoped>\n",
              "    .dataframe tbody tr th:only-of-type {\n",
              "        vertical-align: middle;\n",
              "    }\n",
              "\n",
              "    .dataframe tbody tr th {\n",
              "        vertical-align: top;\n",
              "    }\n",
              "\n",
              "    .dataframe thead th {\n",
              "        text-align: right;\n",
              "    }\n",
              "</style>\n",
              "<table border=\"1\" class=\"dataframe\">\n",
              "  <thead>\n",
              "    <tr style=\"text-align: right;\">\n",
              "      <th></th>\n",
              "      <th>RI</th>\n",
              "      <th>Na</th>\n",
              "      <th>Mg</th>\n",
              "      <th>Al</th>\n",
              "      <th>Si</th>\n",
              "      <th>K</th>\n",
              "      <th>Ca</th>\n",
              "      <th>Ba</th>\n",
              "      <th>Fe</th>\n",
              "    </tr>\n",
              "  </thead>\n",
              "  <tbody>\n",
              "    <tr>\n",
              "      <th>RI</th>\n",
              "      <td>1.000000</td>\n",
              "      <td>-0.197983</td>\n",
              "      <td>-0.169508</td>\n",
              "      <td>-0.378821</td>\n",
              "      <td>-0.514888</td>\n",
              "      <td>-0.290848</td>\n",
              "      <td>0.779039</td>\n",
              "      <td>0.033371</td>\n",
              "      <td>0.162074</td>\n",
              "    </tr>\n",
              "    <tr>\n",
              "      <th>Na</th>\n",
              "      <td>-0.197983</td>\n",
              "      <td>1.000000</td>\n",
              "      <td>-0.210843</td>\n",
              "      <td>0.169118</td>\n",
              "      <td>-0.083273</td>\n",
              "      <td>-0.235213</td>\n",
              "      <td>-0.286293</td>\n",
              "      <td>0.281682</td>\n",
              "      <td>-0.231200</td>\n",
              "    </tr>\n",
              "    <tr>\n",
              "      <th>Mg</th>\n",
              "      <td>-0.169508</td>\n",
              "      <td>-0.210843</td>\n",
              "      <td>1.000000</td>\n",
              "      <td>-0.372647</td>\n",
              "      <td>-0.159584</td>\n",
              "      <td>0.057740</td>\n",
              "      <td>-0.477610</td>\n",
              "      <td>-0.446326</td>\n",
              "      <td>0.069479</td>\n",
              "    </tr>\n",
              "    <tr>\n",
              "      <th>Al</th>\n",
              "      <td>-0.378821</td>\n",
              "      <td>0.169118</td>\n",
              "      <td>-0.372647</td>\n",
              "      <td>1.000000</td>\n",
              "      <td>-0.065117</td>\n",
              "      <td>0.333171</td>\n",
              "      <td>-0.214974</td>\n",
              "      <td>0.459342</td>\n",
              "      <td>-0.101397</td>\n",
              "    </tr>\n",
              "    <tr>\n",
              "      <th>Si</th>\n",
              "      <td>-0.514888</td>\n",
              "      <td>-0.083273</td>\n",
              "      <td>-0.159584</td>\n",
              "      <td>-0.065117</td>\n",
              "      <td>1.000000</td>\n",
              "      <td>-0.207487</td>\n",
              "      <td>-0.217225</td>\n",
              "      <td>-0.127402</td>\n",
              "      <td>-0.102814</td>\n",
              "    </tr>\n",
              "    <tr>\n",
              "      <th>K</th>\n",
              "      <td>-0.290848</td>\n",
              "      <td>-0.235213</td>\n",
              "      <td>0.057740</td>\n",
              "      <td>0.333171</td>\n",
              "      <td>-0.207487</td>\n",
              "      <td>1.000000</td>\n",
              "      <td>-0.310993</td>\n",
              "      <td>-0.023318</td>\n",
              "      <td>-0.018063</td>\n",
              "    </tr>\n",
              "    <tr>\n",
              "      <th>Ca</th>\n",
              "      <td>0.779039</td>\n",
              "      <td>-0.286293</td>\n",
              "      <td>-0.477610</td>\n",
              "      <td>-0.214974</td>\n",
              "      <td>-0.217225</td>\n",
              "      <td>-0.310993</td>\n",
              "      <td>1.000000</td>\n",
              "      <td>-0.073192</td>\n",
              "      <td>0.134886</td>\n",
              "    </tr>\n",
              "    <tr>\n",
              "      <th>Ba</th>\n",
              "      <td>0.033371</td>\n",
              "      <td>0.281682</td>\n",
              "      <td>-0.446326</td>\n",
              "      <td>0.459342</td>\n",
              "      <td>-0.127402</td>\n",
              "      <td>-0.023318</td>\n",
              "      <td>-0.073192</td>\n",
              "      <td>1.000000</td>\n",
              "      <td>-0.069559</td>\n",
              "    </tr>\n",
              "    <tr>\n",
              "      <th>Fe</th>\n",
              "      <td>0.162074</td>\n",
              "      <td>-0.231200</td>\n",
              "      <td>0.069479</td>\n",
              "      <td>-0.101397</td>\n",
              "      <td>-0.102814</td>\n",
              "      <td>-0.018063</td>\n",
              "      <td>0.134886</td>\n",
              "      <td>-0.069559</td>\n",
              "      <td>1.000000</td>\n",
              "    </tr>\n",
              "  </tbody>\n",
              "</table>\n",
              "</div>"
            ],
            "text/plain": [
              "          RI        Na        Mg  ...        Ca        Ba        Fe\n",
              "RI  1.000000 -0.197983 -0.169508  ...  0.779039  0.033371  0.162074\n",
              "Na -0.197983  1.000000 -0.210843  ... -0.286293  0.281682 -0.231200\n",
              "Mg -0.169508 -0.210843  1.000000  ... -0.477610 -0.446326  0.069479\n",
              "Al -0.378821  0.169118 -0.372647  ... -0.214974  0.459342 -0.101397\n",
              "Si -0.514888 -0.083273 -0.159584  ... -0.217225 -0.127402 -0.102814\n",
              "K  -0.290848 -0.235213  0.057740  ... -0.310993 -0.023318 -0.018063\n",
              "Ca  0.779039 -0.286293 -0.477610  ...  1.000000 -0.073192  0.134886\n",
              "Ba  0.033371  0.281682 -0.446326  ... -0.073192  1.000000 -0.069559\n",
              "Fe  0.162074 -0.231200  0.069479  ...  0.134886 -0.069559  1.000000\n",
              "\n",
              "[9 rows x 9 columns]"
            ]
          },
          "metadata": {
            "tags": []
          },
          "execution_count": 74
        }
      ]
    },
    {
      "cell_type": "code",
      "metadata": {
        "colab": {
          "base_uri": "https://localhost:8080/",
          "height": 633
        },
        "id": "1YD2SjyO8exZ",
        "outputId": "84cda830-0e16-4bcd-9a5c-ead0855c74a7"
      },
      "source": [
        "plt.figure(figsize=(12,10 ))\n",
        "ax = sns.heatmap(corr, annot=True, vmax=1, vmin=-1, cmap='gist_rainbow')\n",
        "ax.set_title('Корреляции вещественных переменных', fontsize=25)\n",
        "plt.show"
      ],
      "execution_count": null,
      "outputs": [
        {
          "output_type": "execute_result",
          "data": {
            "text/plain": [
              "<function matplotlib.pyplot.show>"
            ]
          },
          "metadata": {
            "tags": []
          },
          "execution_count": 75
        },
        {
          "output_type": "display_data",
          "data": {
            "image/png": "[encoded data removed]",
            "text/plain": [
              "<Figure size 864x720 with 2 Axes>"
            ]
          },
          "metadata": {
            "tags": [],
            "needs_background": "light"
          }
        }
      ]
    },
    {
      "cell_type": "code",
      "metadata": {
        "colab": {
          "base_uri": "https://localhost:8080/",
          "height": 633
        },
        "id": "V-xKbXuP8gye",
        "outputId": "43222dbe-2f99-419d-83a3-35d8b5190420"
      },
      "source": [
        "plt.figure (figsize=(12,10))\n",
        "ax = sns.heatmap (corr[(corr >= 0.75)|(corr <=-0.75)], annot=True, vmax=1, vmin=-1, cmap='gist_rainbow')\n",
        "ax.set_title('Сильная корреляция', fontsize=25)\n",
        "plt.show"
      ],
      "execution_count": null,
      "outputs": [
        {
          "output_type": "execute_result",
          "data": {
            "text/plain": [
              "<function matplotlib.pyplot.show>"
            ]
          },
          "metadata": {
            "tags": []
          },
          "execution_count": 76
        },
        {
          "output_type": "display_data",
          "data": {
            "image/png": "[encoded data removed]",
            "text/plain": [
              "<Figure size 864x720 with 2 Axes>"
            ]
          },
          "metadata": {
            "tags": [],
            "needs_background": "light"
          }
        }
      ]
    },
    {
      "cell_type": "markdown",
      "metadata": {
        "id": "sTMH6z8p8vkT"
      },
      "source": [
        "# Feature importance"
      ]
    },
    {
      "cell_type": "code",
      "metadata": {
        "id": "vE6dDCdN8xj3"
      },
      "source": [
        "import sklearn.preprocessing as prepro\n",
        "from sklearn.ensemble import ExtraTreesClassifier"
      ],
      "execution_count": null,
      "outputs": []
    },
    {
      "cell_type": "code",
      "metadata": {
        "id": "LDjTVDA680wV"
      },
      "source": [
        "forest = ExtraTreesClassifier(n_estimators=100)"
      ],
      "execution_count": null,
      "outputs": []
    },
    {
      "cell_type": "code",
      "metadata": {
        "colab": {
          "base_uri": "https://localhost:8080/"
        },
        "id": "add_LwEJ82W2",
        "outputId": "d717725d-a345-4c87-b202-39428a0236a1"
      },
      "source": [
        "#  forest.fit(x,y)\n",
        "forest.fit(\n",
        "    data_fillna_mean[ data_fillna_mean.columns.values[data_fillna_mean.columns.values!='Class'] ], \n",
        "    data_fillna_mean['Class']\n",
        "    )"
      ],
      "execution_count": null,
      "outputs": [
        {
          "output_type": "execute_result",
          "data": {
            "text/plain": [
              "ExtraTreesClassifier(bootstrap=False, ccp_alpha=0.0, class_weight=None,\n",
              "                     criterion='gini', max_depth=None, max_features='auto',\n",
              "                     max_leaf_nodes=None, max_samples=None,\n",
              "                     min_impurity_decrease=0.0, min_impurity_split=None,\n",
              "                     min_samples_leaf=1, min_samples_split=2,\n",
              "                     min_weight_fraction_leaf=0.0, n_estimators=100,\n",
              "                     n_jobs=None, oob_score=False, random_state=None, verbose=0,\n",
              "                     warm_start=False)"
            ]
          },
          "metadata": {
            "tags": []
          },
          "execution_count": 80
        }
      ]
    },
    {
      "cell_type": "code",
      "metadata": {
        "colab": {
          "base_uri": "https://localhost:8080/"
        },
        "id": "d9Sb_c9c83lP",
        "outputId": "ccca90ca-594f-4016-860f-0d4a79f64725"
      },
      "source": [
        "importance = forest.feature_importances_\n",
        "importance"
      ],
      "execution_count": null,
      "outputs": [
        {
          "output_type": "execute_result",
          "data": {
            "text/plain": [
              "array([0.12253197, 0.10085761, 0.16054201, 0.12170785, 0.09533509,\n",
              "       0.10456276, 0.13536248, 0.09688766, 0.06221257])"
            ]
          },
          "metadata": {
            "tags": []
          },
          "execution_count": 81
        }
      ]
    },
    {
      "cell_type": "code",
      "metadata": {
        "colab": {
          "base_uri": "https://localhost:8080/"
        },
        "id": "LkNjU59a85_s",
        "outputId": "d2d0a2a5-0392-4019-a34f-0f06a71c4a31"
      },
      "source": [
        "np.sort(importance)[:: -1]"
      ],
      "execution_count": null,
      "outputs": [
        {
          "output_type": "execute_result",
          "data": {
            "text/plain": [
              "array([0.16054201, 0.13536248, 0.12253197, 0.12170785, 0.10456276,\n",
              "       0.10085761, 0.09688766, 0.09533509, 0.06221257])"
            ]
          },
          "metadata": {
            "tags": []
          },
          "execution_count": 82
        }
      ]
    },
    {
      "cell_type": "code",
      "metadata": {
        "colab": {
          "base_uri": "https://localhost:8080/"
        },
        "id": "sYkQJM4i874k",
        "outputId": "9ebcbcd0-0fc3-4939-8031-c318fd02a62d"
      },
      "source": [
        "indices = np.argsort(importance)[::-1]\n",
        "indices"
      ],
      "execution_count": null,
      "outputs": [
        {
          "output_type": "execute_result",
          "data": {
            "text/plain": [
              "array([2, 6, 0, 3, 5, 1, 7, 4, 8])"
            ]
          },
          "metadata": {
            "tags": []
          },
          "execution_count": 83
        }
      ]
    },
    {
      "cell_type": "code",
      "metadata": {
        "colab": {
          "base_uri": "https://localhost:8080/"
        },
        "id": "3bn9dqCt8-XG",
        "outputId": "135f7e59-1bb0-437f-ca75-42d02f73b485"
      },
      "source": [
        "# Print the feature ranking\n",
        "print(\"Feature ranking:\")\n",
        "\n",
        "for f in range(9):\n",
        "    print(\"%d. feature %s (%f)\" % (f + 1, data_fillna_mean.columns.values[indices[f]], importance[indices[f]]))"
      ],
      "execution_count": null,
      "outputs": [
        {
          "output_type": "stream",
          "text": [
            "Feature ranking:\n",
            "1. feature Mg (0.160542)\n",
            "2. feature Ca (0.135362)\n",
            "3. feature RI (0.122532)\n",
            "4. feature Al (0.121708)\n",
            "5. feature K (0.104563)\n",
            "6. feature Na (0.100858)\n",
            "7. feature Ba (0.096888)\n",
            "8. feature Si (0.095335)\n",
            "9. feature Fe (0.062213)\n"
          ],
          "name": "stdout"
        }
      ]
    },
    {
      "cell_type": "code",
      "metadata": {
        "colab": {
          "base_uri": "https://localhost:8080/"
        },
        "id": "XXZTK4HO9AwN",
        "outputId": "0abd8979-606c-48fb-fd26-64411f518423"
      },
      "source": [
        "std = np.std( [tree.feature_importances_ for tree in forest.estimators_], axis=0)\n",
        "std"
      ],
      "execution_count": null,
      "outputs": [
        {
          "output_type": "execute_result",
          "data": {
            "text/plain": [
              "array([0.03375804, 0.03460183, 0.03852153, 0.04302486, 0.02273624,\n",
              "       0.0302219 , 0.03966598, 0.04968442, 0.01944167])"
            ]
          },
          "metadata": {
            "tags": []
          },
          "execution_count": 85
        }
      ]
    },
    {
      "cell_type": "code",
      "metadata": {
        "colab": {
          "base_uri": "https://localhost:8080/",
          "height": 336
        },
        "id": "yqeOiCOb9DFY",
        "outputId": "107cbfcd-f0b2-40af-8287-7ab4c33b5f15"
      },
      "source": [
        "fig, ax = plt.subplots(figsize=(10,5))\n",
        "ax.set_title('Столбцы')\n",
        "ax.bar(data_fillna_mean.columns.values[indices], importance[indices], color=\"b\", yerr=std[indices], align=\"center\")\n",
        "\n",
        "plt.show()"
      ],
      "execution_count": null,
      "outputs": [
        {
          "output_type": "display_data",
          "data": {
            "image/png": "[encoded data removed]",
            "text/plain": [
              "<Figure size 720x360 with 1 Axes>"
            ]
          },
          "metadata": {
            "tags": [],
            "needs_background": "light"
          }
        }
      ]
    },
    {
      "cell_type": "markdown",
      "metadata": {
        "id": "Eifj1aYA9TE-"
      },
      "source": [
        "# **Задание 3. Визуальный анализ данных**"
      ]
    },
    {
      "cell_type": "markdown",
      "metadata": {
        "id": "PGHg1gaR9YaG"
      },
      "source": [
        "1) сделать виджет для выбора переменной. Для выбранной переменной строиться гистограмма, если переменная числовая или столбчатая диаграмма, если переменная категориальная.\n",
        "\n",
        "2) сделать виджет для выбора переменной. Для выбранной переменной строиться диаграмма \"ящик с усами\".\n",
        "\n",
        "3) сделать виджет для выбора пары переменных, для них строится парный график с раскраской точек по классам."
      ]
    },
    {
      "cell_type": "markdown",
      "metadata": {
        "id": "sjKqFVD29azl"
      },
      "source": [
        "# №1"
      ]
    },
    {
      "cell_type": "code",
      "metadata": {
        "colab": {
          "base_uri": "https://localhost:8080/",
          "height": 304
        },
        "id": "8n6rgpxs9Ro6",
        "outputId": "1389151d-d1e0-4658-b05a-cd421ba5b58a"
      },
      "source": [
        "#@title Выбор переменной\n",
        "#@markdown ---\n",
        "Variable = \"Ba\" #@param [\"Id\", \"RI\", \"Na\", \"Mg\", \"Al\", \"Si\", \"K\", \"Ca\", \"Ba\", \"Fe\", \"Class\"]\n",
        "#@markdown ---\n",
        "if  Variable == 'Class':\n",
        "    col = Variable\n",
        "    fig, ax = plt.subplots(figsize=(12,6))\n",
        "    ax.bar(data[col].value_counts().index.values, \n",
        "        data[col].value_counts().values)\n",
        "    ax.set_xlabel(None, fontsize=16)\n",
        "    ax.set_title('Barplot для '+str(col), fontsize=16)\n",
        "    ax.tick_params(axis='x', which='major', labelsize=14, rotation=35)\n",
        "    plt.show()\n",
        "else:\n",
        "    col = Variable\n",
        "    fig, ax = plt.subplots()\n",
        "    ax.hist(data[col], bins=20)\n",
        "    ax.set_xlabel(col, fontsize=16)\n",
        "    ax.set_title(\"Гистограмма для  \" + str(col), fontsize=18)\n",
        "    plt.show()"
      ],
      "execution_count": null,
      "outputs": [
        {
          "output_type": "display_data",
          "data": {
            "image/png": "[encoded data removed]",
            "text/plain": [
              "<Figure size 432x288 with 1 Axes>"
            ]
          },
          "metadata": {
            "tags": [],
            "needs_background": "light"
          }
        }
      ]
    },
    {
      "cell_type": "markdown",
      "metadata": {
        "id": "DD7jAT1b9klN"
      },
      "source": [
        "# №2"
      ]
    },
    {
      "cell_type": "code",
      "metadata": {
        "colab": {
          "base_uri": "https://localhost:8080/",
          "height": 279
        },
        "id": "VFVnLLYW9jYI",
        "outputId": "42b5acc1-e14f-4e81-b0f3-ead2a17eec68"
      },
      "source": [
        "#@title Выбор переменной\n",
        "#@markdown ---\n",
        "Variable = \"Mg\" #@param [\"Id\", \"RI\", \"Na\", \"Mg\", \"Al\", \"Si\", \"K\", \"Ca\", \"Ba\", \"Fe\"]\n",
        "#@markdown ---\n",
        "sns.boxplot(data=data, x=Variable)\n",
        "plt.show()"
      ],
      "execution_count": null,
      "outputs": [
        {
          "output_type": "display_data",
          "data": {
            "image/png": "[encoded data removed]",
            "text/plain": [
              "<Figure size 432x288 with 1 Axes>"
            ]
          },
          "metadata": {
            "tags": [],
            "needs_background": "light"
          }
        }
      ]
    },
    {
      "cell_type": "markdown",
      "metadata": {
        "id": "fLAsUSXK9qVr"
      },
      "source": [
        "# №3"
      ]
    },
    {
      "cell_type": "code",
      "metadata": {
        "colab": {
          "base_uri": "https://localhost:8080/",
          "height": 279
        },
        "id": "aMxU_42Z9ogS",
        "outputId": "0831ef9d-8a98-4bdc-a547-4cca224fae18"
      },
      "source": [
        "#@title Выбор переменной\n",
        "#@markdown ---\n",
        "Variable1 = \"Si\" #@param [\"Id\", \"RI\", \"Na\", \"Mg\", \"Al\", \"Si\", \"K\", \"Ca\", \"Ba\", \"Fe\"]\n",
        "Variable2 = \"K\" #@param [\"Id\", \"RI\", \"Na\", \"Mg\", \"Al\", \"Si\", \"K\", \"Ca\", \"Ba\", \"Fe\"]\n",
        "#@markdown --- \n",
        " \n",
        "fig, ax = plt.subplots()\n",
        " \n",
        "for glassType in data['Class'].value_counts().index.values:\n",
        "  ax.scatter(data[Variable1][ data['Class']==glassType ],\n",
        "             data[Variable2][ data['Class']==glassType ],\n",
        "             label=glassType)\n",
        " \n",
        "ax.set_xlabel(Variable1)\n",
        "ax.set_ylabel(Variable2)\n",
        "ax.legend()\n",
        " \n",
        "plt.show()"
      ],
      "execution_count": null,
      "outputs": [
        {
          "output_type": "display_data",
          "data": {
            "image/png": "[encoded data removed]",
            "text/plain": [
              "<Figure size 432x288 with 1 Axes>"
            ]
          },
          "metadata": {
            "tags": [],
            "needs_background": "light"
          }
        }
      ]
    },
    {
      "cell_type": "markdown",
      "metadata": {
        "id": "ARq9tpAG9wm4"
      },
      "source": [
        "# **Задание 4. Заполнение пробелов, корреляции**"
      ]
    },
    {
      "cell_type": "code",
      "metadata": {
        "id": "1KeAyak29zSe"
      },
      "source": [
        "from sklearn.decomposition import PCA"
      ],
      "execution_count": null,
      "outputs": []
    },
    {
      "cell_type": "code",
      "metadata": {
        "colab": {
          "base_uri": "https://localhost:8080/"
        },
        "id": "nnlw9XDu93a1",
        "outputId": "9c1e4dd8-e090-4891-825c-872ee1873724"
      },
      "source": [
        "pca = PCA()\n",
        "pca.fit( data_fillna_mean[data_fillna_mean.columns.values[data_fillna_mean.columns.values != 'Class']] )"
      ],
      "execution_count": null,
      "outputs": [
        {
          "output_type": "execute_result",
          "data": {
            "text/plain": [
              "PCA(copy=True, iterated_power='auto', n_components=None, random_state=None,\n",
              "    svd_solver='auto', tol=0.0, whiten=False)"
            ]
          },
          "metadata": {
            "tags": []
          },
          "execution_count": 93
        }
      ]
    },
    {
      "cell_type": "code",
      "metadata": {
        "colab": {
          "base_uri": "https://localhost:8080/"
        },
        "id": "jNDROFUZ95ww",
        "outputId": "1769682c-48a3-491d-acb5-568be07d0e8d"
      },
      "source": [
        "print(pca.explained_variance_ratio_*100)"
      ],
      "execution_count": null,
      "outputs": [
        {
          "output_type": "stream",
          "text": [
            "[4.84389204e+01 2.41215701e+01 1.12254506e+01 1.01872139e+01\n",
            " 3.40859048e+00 1.74920913e+00 7.28964709e-01 1.40056326e-01\n",
            " 2.43863764e-05]\n"
          ],
          "name": "stdout"
        }
      ]
    },
    {
      "cell_type": "code",
      "metadata": {
        "colab": {
          "base_uri": "https://localhost:8080/",
          "height": 266
        },
        "id": "qo823E-X97jh",
        "outputId": "280ec3c3-331e-4674-867e-1e5d748f2184"
      },
      "source": [
        "_, ax = plt.subplots()\n",
        "ax.plot(np.arange(1,10),pca.explained_variance_ratio_*100)\n",
        "plt.show()"
      ],
      "execution_count": null,
      "outputs": [
        {
          "output_type": "display_data",
          "data": {
            "image/png": "[encoded data removed]",
            "text/plain": [
              "<Figure size 432x288 with 1 Axes>"
            ]
          },
          "metadata": {
            "tags": [],
            "needs_background": "light"
          }
        }
      ]
    },
    {
      "cell_type": "code",
      "metadata": {
        "id": "-ckMstGd99-Z"
      },
      "source": [
        "pcaData['Class'] = data_fillna_mean['Class'].copy()"
      ],
      "execution_count": null,
      "outputs": []
    },
    {
      "cell_type": "code",
      "metadata": {
        "colab": {
          "base_uri": "https://localhost:8080/",
          "height": 497
        },
        "id": "2tATI9j79_xr",
        "outputId": "aa9bccb6-76e6-48fa-842f-9c19646befc7"
      },
      "source": [
        "col1 = 'pc1'\n",
        "col2 = 'pc2'\n",
        "\n",
        "fig, ax = plt.subplots(figsize=(8,8))\n",
        "\n",
        "for glassType in pcaData['Class'].value_counts().index.values:\n",
        "  ax.scatter(pcaData[col1][ pcaData['Class']==glassType ],\n",
        "             pcaData[col2][ pcaData['Class']==glassType ],\n",
        "             label=glassType)\n",
        "\n",
        "ax.set_xlabel(col1)\n",
        "ax.set_ylabel(col2)\n",
        "ax.legend()\n",
        "\n",
        "plt.show()"
      ],
      "execution_count": null,
      "outputs": [
        {
          "output_type": "display_data",
          "data": {
            "image/png": "[encoded data removed]",
            "text/plain": [
              "<Figure size 576x576 with 1 Axes>"
            ]
          },
          "metadata": {
            "tags": [],
            "needs_background": "light"
          }
        }
      ]
    },
    {
      "cell_type": "code",
      "metadata": {
        "colab": {
          "base_uri": "https://localhost:8080/",
          "height": 466
        },
        "id": "1rbchOCC-CEI",
        "outputId": "c2aeb39e-fb0b-4537-fe21-3b8eb5f6e256"
      },
      "source": [
        "col1 = 'pc1'\n",
        "col2 = 'pc2'\n",
        "\n",
        "fig = plt.figure(figsize=(8,8))\n",
        "ax = plt.axes(projection='3d')\n",
        "\n",
        "for glassType in pcaData['Class'].value_counts().index.values:\n",
        "  ax.scatter(pcaData['pc1'][ pcaData['Class']==glassType ], \n",
        "             pcaData['pc2'][ pcaData['Class']==glassType ], \n",
        "             pcaData['pc3'][ pcaData['Class']==glassType ],\n",
        "             label=glassType)\n",
        "\n",
        "ax.set_xlabel('pc1', fontsize=16)\n",
        "ax.set_ylabel('pc2', fontsize=16)\n",
        "ax.set_zlabel('pc3', fontsize=16)\n",
        "ax.legend()\n",
        "\n",
        "plt.show()"
      ],
      "execution_count": null,
      "outputs": [
        {
          "output_type": "display_data",
          "data": {
            "image/png": "[encoded data removed]",
            "text/plain": [
              "<Figure size 576x576 with 1 Axes>"
            ]
          },
          "metadata": {
            "tags": [],
            "needs_background": "light"
          }
        }
      ]
    },
    {
      "cell_type": "code",
      "metadata": {
        "colab": {
          "base_uri": "https://localhost:8080/",
          "height": 328
        },
        "id": "cdrU2cxi-E8I",
        "outputId": "7688c0dc-3ddc-4c07-de90-a711ba0c9965"
      },
      "source": [
        "corr = data_fillna_mean.corr()\n",
        "corr"
      ],
      "execution_count": null,
      "outputs": [
        {
          "output_type": "execute_result",
          "data": {
            "text/html": [
              "<div>\n",
              "<style scoped>\n",
              "    .dataframe tbody tr th:only-of-type {\n",
              "        vertical-align: middle;\n",
              "    }\n",
              "\n",
              "    .dataframe tbody tr th {\n",
              "        vertical-align: top;\n",
              "    }\n",
              "\n",
              "    .dataframe thead th {\n",
              "        text-align: right;\n",
              "    }\n",
              "</style>\n",
              "<table border=\"1\" class=\"dataframe\">\n",
              "  <thead>\n",
              "    <tr style=\"text-align: right;\">\n",
              "      <th></th>\n",
              "      <th>RI</th>\n",
              "      <th>Na</th>\n",
              "      <th>Mg</th>\n",
              "      <th>Al</th>\n",
              "      <th>Si</th>\n",
              "      <th>K</th>\n",
              "      <th>Ca</th>\n",
              "      <th>Ba</th>\n",
              "      <th>Fe</th>\n",
              "    </tr>\n",
              "  </thead>\n",
              "  <tbody>\n",
              "    <tr>\n",
              "      <th>RI</th>\n",
              "      <td>1.000000</td>\n",
              "      <td>-0.197983</td>\n",
              "      <td>-0.169508</td>\n",
              "      <td>-0.378821</td>\n",
              "      <td>-0.514888</td>\n",
              "      <td>-0.290848</td>\n",
              "      <td>0.779039</td>\n",
              "      <td>0.033371</td>\n",
              "      <td>0.162074</td>\n",
              "    </tr>\n",
              "    <tr>\n",
              "      <th>Na</th>\n",
              "      <td>-0.197983</td>\n",
              "      <td>1.000000</td>\n",
              "      <td>-0.210843</td>\n",
              "      <td>0.169118</td>\n",
              "      <td>-0.083273</td>\n",
              "      <td>-0.235213</td>\n",
              "      <td>-0.286293</td>\n",
              "      <td>0.281682</td>\n",
              "      <td>-0.231200</td>\n",
              "    </tr>\n",
              "    <tr>\n",
              "      <th>Mg</th>\n",
              "      <td>-0.169508</td>\n",
              "      <td>-0.210843</td>\n",
              "      <td>1.000000</td>\n",
              "      <td>-0.372647</td>\n",
              "      <td>-0.159584</td>\n",
              "      <td>0.057740</td>\n",
              "      <td>-0.477610</td>\n",
              "      <td>-0.446326</td>\n",
              "      <td>0.069479</td>\n",
              "    </tr>\n",
              "    <tr>\n",
              "      <th>Al</th>\n",
              "      <td>-0.378821</td>\n",
              "      <td>0.169118</td>\n",
              "      <td>-0.372647</td>\n",
              "      <td>1.000000</td>\n",
              "      <td>-0.065117</td>\n",
              "      <td>0.333171</td>\n",
              "      <td>-0.214974</td>\n",
              "      <td>0.459342</td>\n",
              "      <td>-0.101397</td>\n",
              "    </tr>\n",
              "    <tr>\n",
              "      <th>Si</th>\n",
              "      <td>-0.514888</td>\n",
              "      <td>-0.083273</td>\n",
              "      <td>-0.159584</td>\n",
              "      <td>-0.065117</td>\n",
              "      <td>1.000000</td>\n",
              "      <td>-0.207487</td>\n",
              "      <td>-0.217225</td>\n",
              "      <td>-0.127402</td>\n",
              "      <td>-0.102814</td>\n",
              "    </tr>\n",
              "    <tr>\n",
              "      <th>K</th>\n",
              "      <td>-0.290848</td>\n",
              "      <td>-0.235213</td>\n",
              "      <td>0.057740</td>\n",
              "      <td>0.333171</td>\n",
              "      <td>-0.207487</td>\n",
              "      <td>1.000000</td>\n",
              "      <td>-0.310993</td>\n",
              "      <td>-0.023318</td>\n",
              "      <td>-0.018063</td>\n",
              "    </tr>\n",
              "    <tr>\n",
              "      <th>Ca</th>\n",
              "      <td>0.779039</td>\n",
              "      <td>-0.286293</td>\n",
              "      <td>-0.477610</td>\n",
              "      <td>-0.214974</td>\n",
              "      <td>-0.217225</td>\n",
              "      <td>-0.310993</td>\n",
              "      <td>1.000000</td>\n",
              "      <td>-0.073192</td>\n",
              "      <td>0.134886</td>\n",
              "    </tr>\n",
              "    <tr>\n",
              "      <th>Ba</th>\n",
              "      <td>0.033371</td>\n",
              "      <td>0.281682</td>\n",
              "      <td>-0.446326</td>\n",
              "      <td>0.459342</td>\n",
              "      <td>-0.127402</td>\n",
              "      <td>-0.023318</td>\n",
              "      <td>-0.073192</td>\n",
              "      <td>1.000000</td>\n",
              "      <td>-0.069559</td>\n",
              "    </tr>\n",
              "    <tr>\n",
              "      <th>Fe</th>\n",
              "      <td>0.162074</td>\n",
              "      <td>-0.231200</td>\n",
              "      <td>0.069479</td>\n",
              "      <td>-0.101397</td>\n",
              "      <td>-0.102814</td>\n",
              "      <td>-0.018063</td>\n",
              "      <td>0.134886</td>\n",
              "      <td>-0.069559</td>\n",
              "      <td>1.000000</td>\n",
              "    </tr>\n",
              "  </tbody>\n",
              "</table>\n",
              "</div>"
            ],
            "text/plain": [
              "          RI        Na        Mg  ...        Ca        Ba        Fe\n",
              "RI  1.000000 -0.197983 -0.169508  ...  0.779039  0.033371  0.162074\n",
              "Na -0.197983  1.000000 -0.210843  ... -0.286293  0.281682 -0.231200\n",
              "Mg -0.169508 -0.210843  1.000000  ... -0.477610 -0.446326  0.069479\n",
              "Al -0.378821  0.169118 -0.372647  ... -0.214974  0.459342 -0.101397\n",
              "Si -0.514888 -0.083273 -0.159584  ... -0.217225 -0.127402 -0.102814\n",
              "K  -0.290848 -0.235213  0.057740  ... -0.310993 -0.023318 -0.018063\n",
              "Ca  0.779039 -0.286293 -0.477610  ...  1.000000 -0.073192  0.134886\n",
              "Ba  0.033371  0.281682 -0.446326  ... -0.073192  1.000000 -0.069559\n",
              "Fe  0.162074 -0.231200  0.069479  ...  0.134886 -0.069559  1.000000\n",
              "\n",
              "[9 rows x 9 columns]"
            ]
          },
          "metadata": {
            "tags": []
          },
          "execution_count": 99
        }
      ]
    },
    {
      "cell_type": "code",
      "metadata": {
        "colab": {
          "base_uri": "https://localhost:8080/",
          "height": 611
        },
        "id": "EYEieCSA-GuK",
        "outputId": "fc9b0c9a-0f1b-4a14-db66-c33b3ba48a5b"
      },
      "source": [
        "plt.figure(figsize=(12, 10))\n",
        "\n",
        "ax = sns.heatmap(corr, annot=True, vmax=1, vmin=-1, cmap='gist_rainbow')\n",
        "\n",
        "ax.set_title('Корреляции вещественных переменных', fontsize=18)\n",
        "\n",
        "plt.show()"
      ],
      "execution_count": null,
      "outputs": [
        {
          "output_type": "display_data",
          "data": {
            "image/png": "[encoded data removed]",
            "text/plain": [
              "<Figure size 864x720 with 2 Axes>"
            ]
          },
          "metadata": {
            "tags": [],
            "needs_background": "light"
          }
        }
      ]
    },
    {
      "cell_type": "code",
      "metadata": {
        "colab": {
          "base_uri": "https://localhost:8080/",
          "height": 633
        },
        "id": "WBJt6LwM-IKG",
        "outputId": "bea0d037-7f6e-4ac7-8c04-a4f5ce1c211b"
      },
      "source": [
        "plt.figure (figsize=(12,10))\n",
        "ax = sns.heatmap (corr[(corr >= 0.75)|(corr <=-0.75)], annot=True, vmax=1, vmin=-1, cmap='gist_rainbow')\n",
        "ax.set_title('Сильная корреляция', fontsize=25)\n",
        "plt.show"
      ],
      "execution_count": null,
      "outputs": [
        {
          "output_type": "execute_result",
          "data": {
            "text/plain": [
              "<function matplotlib.pyplot.show>"
            ]
          },
          "metadata": {
            "tags": []
          },
          "execution_count": 101
        },
        {
          "output_type": "display_data",
          "data": {
            "image/png": "[encoded data removed]",
            "text/plain": [
              "<Figure size 864x720 with 2 Axes>"
            ]
          },
          "metadata": {
            "tags": [],
            "needs_background": "light"
          }
        }
      ]
    },
    {
      "cell_type": "code",
      "metadata": {
        "colab": {
          "base_uri": "https://localhost:8080/",
          "height": 633
        },
        "id": "DCwM2dIv-Mqh",
        "outputId": "a2c48545-0c26-44fc-d86c-4d95462d056c"
      },
      "source": [
        "plt.figure (figsize=(12,10))\n",
        "ax = sns.heatmap (corr[(corr<=0.75)&(corr>=0.45)|(corr<=-0.45)&(corr>=-0.75)], annot=True, vmax=1, vmin=-1, cmap='gist_rainbow')\n",
        "ax.set_title('Средняя корреляция', fontsize=25)\n",
        "plt.show"
      ],
      "execution_count": null,
      "outputs": [
        {
          "output_type": "execute_result",
          "data": {
            "text/plain": [
              "<function matplotlib.pyplot.show>"
            ]
          },
          "metadata": {
            "tags": []
          },
          "execution_count": 102
        },
        {
          "output_type": "display_data",
          "data": {
            "image/png": "[encoded data removed]",
            "text/plain": [
              "<Figure size 864x720 with 2 Axes>"
            ]
          },
          "metadata": {
            "tags": [],
            "needs_background": "light"
          }
        }
      ]
    },
    {
      "cell_type": "code",
      "metadata": {
        "id": "IRGRec9O-PHY",
        "colab": {
          "base_uri": "https://localhost:8080/",
          "height": 635
        },
        "outputId": "6361017a-cd2a-4b62-a220-50b8290700b7"
      },
      "source": [
        "plt.figure (figsize=(12,10))\n",
        "ax = sns.heatmap (corr[(corr<=0.45)&(corr>=0.25)|(corr<=-0.25)&(corr>=-0.45)], annot=True, vmax=1, vmin=-1, cmap='gist_rainbow')\n",
        "ax.set_title('Слабая корреляция', fontsize=25)\n",
        "plt.show"
      ],
      "execution_count": null,
      "outputs": [
        {
          "output_type": "execute_result",
          "data": {
            "text/plain": [
              "<function matplotlib.pyplot.show>"
            ]
          },
          "metadata": {
            "tags": []
          },
          "execution_count": 103
        },
        {
          "output_type": "display_data",
          "data": {
            "image/png": "[encoded data removed]",
            "text/plain": [
              "<Figure size 864x720 with 2 Axes>"
            ]
          },
          "metadata": {
            "tags": [],
            "needs_background": "light"
          }
        }
      ]
    }
  ]
}